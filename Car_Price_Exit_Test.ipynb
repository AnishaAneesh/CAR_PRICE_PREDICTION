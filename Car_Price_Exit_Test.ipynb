{
 "cells": [
  {
   "cell_type": "markdown",
   "id": "9bca8735",
   "metadata": {},
   "source": [
    "# Importing Packeges"
   ]
  },
  {
   "cell_type": "code",
   "execution_count": 1,
   "id": "f995c273",
   "metadata": {},
   "outputs": [],
   "source": [
    "import numpy as np\n",
    "import pandas as pd\n",
    "import matplotlib.pyplot as plt\n",
    "from sklearn import metrics\n",
    "import seaborn as sns\n",
    "import warnings\n",
    "import pickle\n",
    "warnings.filterwarnings(\"ignore\")"
   ]
  },
  {
   "cell_type": "markdown",
   "id": "8915127d",
   "metadata": {},
   "source": [
    "# Loading Train dataset"
   ]
  },
  {
   "cell_type": "code",
   "execution_count": 2,
   "id": "46a5d4e6",
   "metadata": {},
   "outputs": [
    {
     "data": {
      "text/html": [
       "<div>\n",
       "<style scoped>\n",
       "    .dataframe tbody tr th:only-of-type {\n",
       "        vertical-align: middle;\n",
       "    }\n",
       "\n",
       "    .dataframe tbody tr th {\n",
       "        vertical-align: top;\n",
       "    }\n",
       "\n",
       "    .dataframe thead th {\n",
       "        text-align: right;\n",
       "    }\n",
       "</style>\n",
       "<table border=\"1\" class=\"dataframe\">\n",
       "  <thead>\n",
       "    <tr style=\"text-align: right;\">\n",
       "      <th></th>\n",
       "      <th>Make</th>\n",
       "      <th>Model</th>\n",
       "      <th>Year</th>\n",
       "      <th>Engine Fuel Type</th>\n",
       "      <th>Engine HP</th>\n",
       "      <th>Engine Cylinders</th>\n",
       "      <th>Transmission Type</th>\n",
       "      <th>Driven_Wheels</th>\n",
       "      <th>Number of Doors</th>\n",
       "      <th>Market Category</th>\n",
       "      <th>Vehicle Size</th>\n",
       "      <th>Vehicle Style</th>\n",
       "      <th>highway MPG</th>\n",
       "      <th>city mpg</th>\n",
       "      <th>Popularity</th>\n",
       "      <th>MSRP</th>\n",
       "    </tr>\n",
       "  </thead>\n",
       "  <tbody>\n",
       "    <tr>\n",
       "      <th>0</th>\n",
       "      <td>BMW</td>\n",
       "      <td>1 Series M</td>\n",
       "      <td>2011</td>\n",
       "      <td>premium unleaded (required)</td>\n",
       "      <td>335.0</td>\n",
       "      <td>6.0</td>\n",
       "      <td>MANUAL</td>\n",
       "      <td>rear wheel drive</td>\n",
       "      <td>2.0</td>\n",
       "      <td>Factory Tuner,Luxury,High-Performance</td>\n",
       "      <td>Compact</td>\n",
       "      <td>Coupe</td>\n",
       "      <td>26</td>\n",
       "      <td>19</td>\n",
       "      <td>3916</td>\n",
       "      <td>46135</td>\n",
       "    </tr>\n",
       "    <tr>\n",
       "      <th>1</th>\n",
       "      <td>BMW</td>\n",
       "      <td>1 Series</td>\n",
       "      <td>2011</td>\n",
       "      <td>premium unleaded (required)</td>\n",
       "      <td>300.0</td>\n",
       "      <td>6.0</td>\n",
       "      <td>MANUAL</td>\n",
       "      <td>rear wheel drive</td>\n",
       "      <td>2.0</td>\n",
       "      <td>Luxury,Performance</td>\n",
       "      <td>Compact</td>\n",
       "      <td>Convertible</td>\n",
       "      <td>28</td>\n",
       "      <td>19</td>\n",
       "      <td>3916</td>\n",
       "      <td>40650</td>\n",
       "    </tr>\n",
       "    <tr>\n",
       "      <th>2</th>\n",
       "      <td>BMW</td>\n",
       "      <td>1 Series</td>\n",
       "      <td>2011</td>\n",
       "      <td>premium unleaded (required)</td>\n",
       "      <td>300.0</td>\n",
       "      <td>6.0</td>\n",
       "      <td>MANUAL</td>\n",
       "      <td>rear wheel drive</td>\n",
       "      <td>2.0</td>\n",
       "      <td>Luxury,High-Performance</td>\n",
       "      <td>Compact</td>\n",
       "      <td>Coupe</td>\n",
       "      <td>28</td>\n",
       "      <td>20</td>\n",
       "      <td>3916</td>\n",
       "      <td>36350</td>\n",
       "    </tr>\n",
       "    <tr>\n",
       "      <th>3</th>\n",
       "      <td>BMW</td>\n",
       "      <td>1 Series</td>\n",
       "      <td>2011</td>\n",
       "      <td>premium unleaded (required)</td>\n",
       "      <td>230.0</td>\n",
       "      <td>6.0</td>\n",
       "      <td>MANUAL</td>\n",
       "      <td>rear wheel drive</td>\n",
       "      <td>2.0</td>\n",
       "      <td>Luxury,Performance</td>\n",
       "      <td>Compact</td>\n",
       "      <td>Coupe</td>\n",
       "      <td>28</td>\n",
       "      <td>18</td>\n",
       "      <td>3916</td>\n",
       "      <td>29450</td>\n",
       "    </tr>\n",
       "    <tr>\n",
       "      <th>4</th>\n",
       "      <td>BMW</td>\n",
       "      <td>1 Series</td>\n",
       "      <td>2011</td>\n",
       "      <td>premium unleaded (required)</td>\n",
       "      <td>230.0</td>\n",
       "      <td>6.0</td>\n",
       "      <td>MANUAL</td>\n",
       "      <td>rear wheel drive</td>\n",
       "      <td>2.0</td>\n",
       "      <td>Luxury</td>\n",
       "      <td>Compact</td>\n",
       "      <td>Convertible</td>\n",
       "      <td>28</td>\n",
       "      <td>18</td>\n",
       "      <td>3916</td>\n",
       "      <td>34500</td>\n",
       "    </tr>\n",
       "    <tr>\n",
       "      <th>...</th>\n",
       "      <td>...</td>\n",
       "      <td>...</td>\n",
       "      <td>...</td>\n",
       "      <td>...</td>\n",
       "      <td>...</td>\n",
       "      <td>...</td>\n",
       "      <td>...</td>\n",
       "      <td>...</td>\n",
       "      <td>...</td>\n",
       "      <td>...</td>\n",
       "      <td>...</td>\n",
       "      <td>...</td>\n",
       "      <td>...</td>\n",
       "      <td>...</td>\n",
       "      <td>...</td>\n",
       "      <td>...</td>\n",
       "    </tr>\n",
       "    <tr>\n",
       "      <th>11909</th>\n",
       "      <td>Acura</td>\n",
       "      <td>ZDX</td>\n",
       "      <td>2012</td>\n",
       "      <td>premium unleaded (required)</td>\n",
       "      <td>300.0</td>\n",
       "      <td>6.0</td>\n",
       "      <td>AUTOMATIC</td>\n",
       "      <td>all wheel drive</td>\n",
       "      <td>4.0</td>\n",
       "      <td>Crossover,Hatchback,Luxury</td>\n",
       "      <td>Midsize</td>\n",
       "      <td>4dr Hatchback</td>\n",
       "      <td>23</td>\n",
       "      <td>16</td>\n",
       "      <td>204</td>\n",
       "      <td>46120</td>\n",
       "    </tr>\n",
       "    <tr>\n",
       "      <th>11910</th>\n",
       "      <td>Acura</td>\n",
       "      <td>ZDX</td>\n",
       "      <td>2012</td>\n",
       "      <td>premium unleaded (required)</td>\n",
       "      <td>300.0</td>\n",
       "      <td>6.0</td>\n",
       "      <td>AUTOMATIC</td>\n",
       "      <td>all wheel drive</td>\n",
       "      <td>4.0</td>\n",
       "      <td>Crossover,Hatchback,Luxury</td>\n",
       "      <td>Midsize</td>\n",
       "      <td>4dr Hatchback</td>\n",
       "      <td>23</td>\n",
       "      <td>16</td>\n",
       "      <td>204</td>\n",
       "      <td>56670</td>\n",
       "    </tr>\n",
       "    <tr>\n",
       "      <th>11911</th>\n",
       "      <td>Acura</td>\n",
       "      <td>ZDX</td>\n",
       "      <td>2012</td>\n",
       "      <td>premium unleaded (required)</td>\n",
       "      <td>300.0</td>\n",
       "      <td>6.0</td>\n",
       "      <td>AUTOMATIC</td>\n",
       "      <td>all wheel drive</td>\n",
       "      <td>4.0</td>\n",
       "      <td>Crossover,Hatchback,Luxury</td>\n",
       "      <td>Midsize</td>\n",
       "      <td>4dr Hatchback</td>\n",
       "      <td>23</td>\n",
       "      <td>16</td>\n",
       "      <td>204</td>\n",
       "      <td>50620</td>\n",
       "    </tr>\n",
       "    <tr>\n",
       "      <th>11912</th>\n",
       "      <td>Acura</td>\n",
       "      <td>ZDX</td>\n",
       "      <td>2013</td>\n",
       "      <td>premium unleaded (recommended)</td>\n",
       "      <td>300.0</td>\n",
       "      <td>6.0</td>\n",
       "      <td>AUTOMATIC</td>\n",
       "      <td>all wheel drive</td>\n",
       "      <td>4.0</td>\n",
       "      <td>Crossover,Hatchback,Luxury</td>\n",
       "      <td>Midsize</td>\n",
       "      <td>4dr Hatchback</td>\n",
       "      <td>23</td>\n",
       "      <td>16</td>\n",
       "      <td>204</td>\n",
       "      <td>50920</td>\n",
       "    </tr>\n",
       "    <tr>\n",
       "      <th>11913</th>\n",
       "      <td>Lincoln</td>\n",
       "      <td>Zephyr</td>\n",
       "      <td>2006</td>\n",
       "      <td>regular unleaded</td>\n",
       "      <td>221.0</td>\n",
       "      <td>6.0</td>\n",
       "      <td>AUTOMATIC</td>\n",
       "      <td>front wheel drive</td>\n",
       "      <td>4.0</td>\n",
       "      <td>Luxury</td>\n",
       "      <td>Midsize</td>\n",
       "      <td>Sedan</td>\n",
       "      <td>26</td>\n",
       "      <td>17</td>\n",
       "      <td>61</td>\n",
       "      <td>28995</td>\n",
       "    </tr>\n",
       "  </tbody>\n",
       "</table>\n",
       "<p>11914 rows × 16 columns</p>\n",
       "</div>"
      ],
      "text/plain": [
       "          Make       Model  Year                Engine Fuel Type  Engine HP  \\\n",
       "0          BMW  1 Series M  2011     premium unleaded (required)      335.0   \n",
       "1          BMW    1 Series  2011     premium unleaded (required)      300.0   \n",
       "2          BMW    1 Series  2011     premium unleaded (required)      300.0   \n",
       "3          BMW    1 Series  2011     premium unleaded (required)      230.0   \n",
       "4          BMW    1 Series  2011     premium unleaded (required)      230.0   \n",
       "...        ...         ...   ...                             ...        ...   \n",
       "11909    Acura         ZDX  2012     premium unleaded (required)      300.0   \n",
       "11910    Acura         ZDX  2012     premium unleaded (required)      300.0   \n",
       "11911    Acura         ZDX  2012     premium unleaded (required)      300.0   \n",
       "11912    Acura         ZDX  2013  premium unleaded (recommended)      300.0   \n",
       "11913  Lincoln      Zephyr  2006                regular unleaded      221.0   \n",
       "\n",
       "       Engine Cylinders Transmission Type      Driven_Wheels  Number of Doors  \\\n",
       "0                   6.0            MANUAL   rear wheel drive              2.0   \n",
       "1                   6.0            MANUAL   rear wheel drive              2.0   \n",
       "2                   6.0            MANUAL   rear wheel drive              2.0   \n",
       "3                   6.0            MANUAL   rear wheel drive              2.0   \n",
       "4                   6.0            MANUAL   rear wheel drive              2.0   \n",
       "...                 ...               ...                ...              ...   \n",
       "11909               6.0         AUTOMATIC    all wheel drive              4.0   \n",
       "11910               6.0         AUTOMATIC    all wheel drive              4.0   \n",
       "11911               6.0         AUTOMATIC    all wheel drive              4.0   \n",
       "11912               6.0         AUTOMATIC    all wheel drive              4.0   \n",
       "11913               6.0         AUTOMATIC  front wheel drive              4.0   \n",
       "\n",
       "                             Market Category Vehicle Size  Vehicle Style  \\\n",
       "0      Factory Tuner,Luxury,High-Performance      Compact          Coupe   \n",
       "1                         Luxury,Performance      Compact    Convertible   \n",
       "2                    Luxury,High-Performance      Compact          Coupe   \n",
       "3                         Luxury,Performance      Compact          Coupe   \n",
       "4                                     Luxury      Compact    Convertible   \n",
       "...                                      ...          ...            ...   \n",
       "11909             Crossover,Hatchback,Luxury      Midsize  4dr Hatchback   \n",
       "11910             Crossover,Hatchback,Luxury      Midsize  4dr Hatchback   \n",
       "11911             Crossover,Hatchback,Luxury      Midsize  4dr Hatchback   \n",
       "11912             Crossover,Hatchback,Luxury      Midsize  4dr Hatchback   \n",
       "11913                                 Luxury      Midsize          Sedan   \n",
       "\n",
       "       highway MPG  city mpg  Popularity   MSRP  \n",
       "0               26        19        3916  46135  \n",
       "1               28        19        3916  40650  \n",
       "2               28        20        3916  36350  \n",
       "3               28        18        3916  29450  \n",
       "4               28        18        3916  34500  \n",
       "...            ...       ...         ...    ...  \n",
       "11909           23        16         204  46120  \n",
       "11910           23        16         204  56670  \n",
       "11911           23        16         204  50620  \n",
       "11912           23        16         204  50920  \n",
       "11913           26        17          61  28995  \n",
       "\n",
       "[11914 rows x 16 columns]"
      ]
     },
     "execution_count": 2,
     "metadata": {},
     "output_type": "execute_result"
    }
   ],
   "source": [
    "df=pd.read_csv('data_car.csv')\n",
    "\n",
    "df"
   ]
  },
  {
   "cell_type": "markdown",
   "id": "a853000f",
   "metadata": {},
   "source": [
    "# Top 5 rows"
   ]
  },
  {
   "cell_type": "code",
   "execution_count": 3,
   "id": "1b9b5dd5",
   "metadata": {},
   "outputs": [
    {
     "data": {
      "text/html": [
       "<div>\n",
       "<style scoped>\n",
       "    .dataframe tbody tr th:only-of-type {\n",
       "        vertical-align: middle;\n",
       "    }\n",
       "\n",
       "    .dataframe tbody tr th {\n",
       "        vertical-align: top;\n",
       "    }\n",
       "\n",
       "    .dataframe thead th {\n",
       "        text-align: right;\n",
       "    }\n",
       "</style>\n",
       "<table border=\"1\" class=\"dataframe\">\n",
       "  <thead>\n",
       "    <tr style=\"text-align: right;\">\n",
       "      <th></th>\n",
       "      <th>Make</th>\n",
       "      <th>Model</th>\n",
       "      <th>Year</th>\n",
       "      <th>Engine Fuel Type</th>\n",
       "      <th>Engine HP</th>\n",
       "      <th>Engine Cylinders</th>\n",
       "      <th>Transmission Type</th>\n",
       "      <th>Driven_Wheels</th>\n",
       "      <th>Number of Doors</th>\n",
       "      <th>Market Category</th>\n",
       "      <th>Vehicle Size</th>\n",
       "      <th>Vehicle Style</th>\n",
       "      <th>highway MPG</th>\n",
       "      <th>city mpg</th>\n",
       "      <th>Popularity</th>\n",
       "      <th>MSRP</th>\n",
       "    </tr>\n",
       "  </thead>\n",
       "  <tbody>\n",
       "    <tr>\n",
       "      <th>0</th>\n",
       "      <td>BMW</td>\n",
       "      <td>1 Series M</td>\n",
       "      <td>2011</td>\n",
       "      <td>premium unleaded (required)</td>\n",
       "      <td>335.0</td>\n",
       "      <td>6.0</td>\n",
       "      <td>MANUAL</td>\n",
       "      <td>rear wheel drive</td>\n",
       "      <td>2.0</td>\n",
       "      <td>Factory Tuner,Luxury,High-Performance</td>\n",
       "      <td>Compact</td>\n",
       "      <td>Coupe</td>\n",
       "      <td>26</td>\n",
       "      <td>19</td>\n",
       "      <td>3916</td>\n",
       "      <td>46135</td>\n",
       "    </tr>\n",
       "    <tr>\n",
       "      <th>1</th>\n",
       "      <td>BMW</td>\n",
       "      <td>1 Series</td>\n",
       "      <td>2011</td>\n",
       "      <td>premium unleaded (required)</td>\n",
       "      <td>300.0</td>\n",
       "      <td>6.0</td>\n",
       "      <td>MANUAL</td>\n",
       "      <td>rear wheel drive</td>\n",
       "      <td>2.0</td>\n",
       "      <td>Luxury,Performance</td>\n",
       "      <td>Compact</td>\n",
       "      <td>Convertible</td>\n",
       "      <td>28</td>\n",
       "      <td>19</td>\n",
       "      <td>3916</td>\n",
       "      <td>40650</td>\n",
       "    </tr>\n",
       "    <tr>\n",
       "      <th>2</th>\n",
       "      <td>BMW</td>\n",
       "      <td>1 Series</td>\n",
       "      <td>2011</td>\n",
       "      <td>premium unleaded (required)</td>\n",
       "      <td>300.0</td>\n",
       "      <td>6.0</td>\n",
       "      <td>MANUAL</td>\n",
       "      <td>rear wheel drive</td>\n",
       "      <td>2.0</td>\n",
       "      <td>Luxury,High-Performance</td>\n",
       "      <td>Compact</td>\n",
       "      <td>Coupe</td>\n",
       "      <td>28</td>\n",
       "      <td>20</td>\n",
       "      <td>3916</td>\n",
       "      <td>36350</td>\n",
       "    </tr>\n",
       "    <tr>\n",
       "      <th>3</th>\n",
       "      <td>BMW</td>\n",
       "      <td>1 Series</td>\n",
       "      <td>2011</td>\n",
       "      <td>premium unleaded (required)</td>\n",
       "      <td>230.0</td>\n",
       "      <td>6.0</td>\n",
       "      <td>MANUAL</td>\n",
       "      <td>rear wheel drive</td>\n",
       "      <td>2.0</td>\n",
       "      <td>Luxury,Performance</td>\n",
       "      <td>Compact</td>\n",
       "      <td>Coupe</td>\n",
       "      <td>28</td>\n",
       "      <td>18</td>\n",
       "      <td>3916</td>\n",
       "      <td>29450</td>\n",
       "    </tr>\n",
       "    <tr>\n",
       "      <th>4</th>\n",
       "      <td>BMW</td>\n",
       "      <td>1 Series</td>\n",
       "      <td>2011</td>\n",
       "      <td>premium unleaded (required)</td>\n",
       "      <td>230.0</td>\n",
       "      <td>6.0</td>\n",
       "      <td>MANUAL</td>\n",
       "      <td>rear wheel drive</td>\n",
       "      <td>2.0</td>\n",
       "      <td>Luxury</td>\n",
       "      <td>Compact</td>\n",
       "      <td>Convertible</td>\n",
       "      <td>28</td>\n",
       "      <td>18</td>\n",
       "      <td>3916</td>\n",
       "      <td>34500</td>\n",
       "    </tr>\n",
       "  </tbody>\n",
       "</table>\n",
       "</div>"
      ],
      "text/plain": [
       "  Make       Model  Year             Engine Fuel Type  Engine HP  \\\n",
       "0  BMW  1 Series M  2011  premium unleaded (required)      335.0   \n",
       "1  BMW    1 Series  2011  premium unleaded (required)      300.0   \n",
       "2  BMW    1 Series  2011  premium unleaded (required)      300.0   \n",
       "3  BMW    1 Series  2011  premium unleaded (required)      230.0   \n",
       "4  BMW    1 Series  2011  premium unleaded (required)      230.0   \n",
       "\n",
       "   Engine Cylinders Transmission Type     Driven_Wheels  Number of Doors  \\\n",
       "0               6.0            MANUAL  rear wheel drive              2.0   \n",
       "1               6.0            MANUAL  rear wheel drive              2.0   \n",
       "2               6.0            MANUAL  rear wheel drive              2.0   \n",
       "3               6.0            MANUAL  rear wheel drive              2.0   \n",
       "4               6.0            MANUAL  rear wheel drive              2.0   \n",
       "\n",
       "                         Market Category Vehicle Size Vehicle Style  \\\n",
       "0  Factory Tuner,Luxury,High-Performance      Compact         Coupe   \n",
       "1                     Luxury,Performance      Compact   Convertible   \n",
       "2                Luxury,High-Performance      Compact         Coupe   \n",
       "3                     Luxury,Performance      Compact         Coupe   \n",
       "4                                 Luxury      Compact   Convertible   \n",
       "\n",
       "   highway MPG  city mpg  Popularity   MSRP  \n",
       "0           26        19        3916  46135  \n",
       "1           28        19        3916  40650  \n",
       "2           28        20        3916  36350  \n",
       "3           28        18        3916  29450  \n",
       "4           28        18        3916  34500  "
      ]
     },
     "execution_count": 3,
     "metadata": {},
     "output_type": "execute_result"
    }
   ],
   "source": [
    "df.head(5)"
   ]
  },
  {
   "cell_type": "markdown",
   "id": "99da0f3e",
   "metadata": {},
   "source": [
    "# Last 5 rows"
   ]
  },
  {
   "cell_type": "code",
   "execution_count": 4,
   "id": "c82e2a68",
   "metadata": {},
   "outputs": [
    {
     "data": {
      "text/html": [
       "<div>\n",
       "<style scoped>\n",
       "    .dataframe tbody tr th:only-of-type {\n",
       "        vertical-align: middle;\n",
       "    }\n",
       "\n",
       "    .dataframe tbody tr th {\n",
       "        vertical-align: top;\n",
       "    }\n",
       "\n",
       "    .dataframe thead th {\n",
       "        text-align: right;\n",
       "    }\n",
       "</style>\n",
       "<table border=\"1\" class=\"dataframe\">\n",
       "  <thead>\n",
       "    <tr style=\"text-align: right;\">\n",
       "      <th></th>\n",
       "      <th>Make</th>\n",
       "      <th>Model</th>\n",
       "      <th>Year</th>\n",
       "      <th>Engine Fuel Type</th>\n",
       "      <th>Engine HP</th>\n",
       "      <th>Engine Cylinders</th>\n",
       "      <th>Transmission Type</th>\n",
       "      <th>Driven_Wheels</th>\n",
       "      <th>Number of Doors</th>\n",
       "      <th>Market Category</th>\n",
       "      <th>Vehicle Size</th>\n",
       "      <th>Vehicle Style</th>\n",
       "      <th>highway MPG</th>\n",
       "      <th>city mpg</th>\n",
       "      <th>Popularity</th>\n",
       "      <th>MSRP</th>\n",
       "    </tr>\n",
       "  </thead>\n",
       "  <tbody>\n",
       "    <tr>\n",
       "      <th>11909</th>\n",
       "      <td>Acura</td>\n",
       "      <td>ZDX</td>\n",
       "      <td>2012</td>\n",
       "      <td>premium unleaded (required)</td>\n",
       "      <td>300.0</td>\n",
       "      <td>6.0</td>\n",
       "      <td>AUTOMATIC</td>\n",
       "      <td>all wheel drive</td>\n",
       "      <td>4.0</td>\n",
       "      <td>Crossover,Hatchback,Luxury</td>\n",
       "      <td>Midsize</td>\n",
       "      <td>4dr Hatchback</td>\n",
       "      <td>23</td>\n",
       "      <td>16</td>\n",
       "      <td>204</td>\n",
       "      <td>46120</td>\n",
       "    </tr>\n",
       "    <tr>\n",
       "      <th>11910</th>\n",
       "      <td>Acura</td>\n",
       "      <td>ZDX</td>\n",
       "      <td>2012</td>\n",
       "      <td>premium unleaded (required)</td>\n",
       "      <td>300.0</td>\n",
       "      <td>6.0</td>\n",
       "      <td>AUTOMATIC</td>\n",
       "      <td>all wheel drive</td>\n",
       "      <td>4.0</td>\n",
       "      <td>Crossover,Hatchback,Luxury</td>\n",
       "      <td>Midsize</td>\n",
       "      <td>4dr Hatchback</td>\n",
       "      <td>23</td>\n",
       "      <td>16</td>\n",
       "      <td>204</td>\n",
       "      <td>56670</td>\n",
       "    </tr>\n",
       "    <tr>\n",
       "      <th>11911</th>\n",
       "      <td>Acura</td>\n",
       "      <td>ZDX</td>\n",
       "      <td>2012</td>\n",
       "      <td>premium unleaded (required)</td>\n",
       "      <td>300.0</td>\n",
       "      <td>6.0</td>\n",
       "      <td>AUTOMATIC</td>\n",
       "      <td>all wheel drive</td>\n",
       "      <td>4.0</td>\n",
       "      <td>Crossover,Hatchback,Luxury</td>\n",
       "      <td>Midsize</td>\n",
       "      <td>4dr Hatchback</td>\n",
       "      <td>23</td>\n",
       "      <td>16</td>\n",
       "      <td>204</td>\n",
       "      <td>50620</td>\n",
       "    </tr>\n",
       "    <tr>\n",
       "      <th>11912</th>\n",
       "      <td>Acura</td>\n",
       "      <td>ZDX</td>\n",
       "      <td>2013</td>\n",
       "      <td>premium unleaded (recommended)</td>\n",
       "      <td>300.0</td>\n",
       "      <td>6.0</td>\n",
       "      <td>AUTOMATIC</td>\n",
       "      <td>all wheel drive</td>\n",
       "      <td>4.0</td>\n",
       "      <td>Crossover,Hatchback,Luxury</td>\n",
       "      <td>Midsize</td>\n",
       "      <td>4dr Hatchback</td>\n",
       "      <td>23</td>\n",
       "      <td>16</td>\n",
       "      <td>204</td>\n",
       "      <td>50920</td>\n",
       "    </tr>\n",
       "    <tr>\n",
       "      <th>11913</th>\n",
       "      <td>Lincoln</td>\n",
       "      <td>Zephyr</td>\n",
       "      <td>2006</td>\n",
       "      <td>regular unleaded</td>\n",
       "      <td>221.0</td>\n",
       "      <td>6.0</td>\n",
       "      <td>AUTOMATIC</td>\n",
       "      <td>front wheel drive</td>\n",
       "      <td>4.0</td>\n",
       "      <td>Luxury</td>\n",
       "      <td>Midsize</td>\n",
       "      <td>Sedan</td>\n",
       "      <td>26</td>\n",
       "      <td>17</td>\n",
       "      <td>61</td>\n",
       "      <td>28995</td>\n",
       "    </tr>\n",
       "  </tbody>\n",
       "</table>\n",
       "</div>"
      ],
      "text/plain": [
       "          Make   Model  Year                Engine Fuel Type  Engine HP  \\\n",
       "11909    Acura     ZDX  2012     premium unleaded (required)      300.0   \n",
       "11910    Acura     ZDX  2012     premium unleaded (required)      300.0   \n",
       "11911    Acura     ZDX  2012     premium unleaded (required)      300.0   \n",
       "11912    Acura     ZDX  2013  premium unleaded (recommended)      300.0   \n",
       "11913  Lincoln  Zephyr  2006                regular unleaded      221.0   \n",
       "\n",
       "       Engine Cylinders Transmission Type      Driven_Wheels  Number of Doors  \\\n",
       "11909               6.0         AUTOMATIC    all wheel drive              4.0   \n",
       "11910               6.0         AUTOMATIC    all wheel drive              4.0   \n",
       "11911               6.0         AUTOMATIC    all wheel drive              4.0   \n",
       "11912               6.0         AUTOMATIC    all wheel drive              4.0   \n",
       "11913               6.0         AUTOMATIC  front wheel drive              4.0   \n",
       "\n",
       "                  Market Category Vehicle Size  Vehicle Style  highway MPG  \\\n",
       "11909  Crossover,Hatchback,Luxury      Midsize  4dr Hatchback           23   \n",
       "11910  Crossover,Hatchback,Luxury      Midsize  4dr Hatchback           23   \n",
       "11911  Crossover,Hatchback,Luxury      Midsize  4dr Hatchback           23   \n",
       "11912  Crossover,Hatchback,Luxury      Midsize  4dr Hatchback           23   \n",
       "11913                      Luxury      Midsize          Sedan           26   \n",
       "\n",
       "       city mpg  Popularity   MSRP  \n",
       "11909        16         204  46120  \n",
       "11910        16         204  56670  \n",
       "11911        16         204  50620  \n",
       "11912        16         204  50920  \n",
       "11913        17          61  28995  "
      ]
     },
     "execution_count": 4,
     "metadata": {},
     "output_type": "execute_result"
    }
   ],
   "source": [
    "df.tail(5)"
   ]
  },
  {
   "cell_type": "markdown",
   "id": "90c993ea",
   "metadata": {},
   "source": [
    "# Exploratory Data Analysis"
   ]
  },
  {
   "cell_type": "code",
   "execution_count": 5,
   "id": "8bed492f",
   "metadata": {},
   "outputs": [
    {
     "data": {
      "text/plain": [
       "(11914, 16)"
      ]
     },
     "execution_count": 5,
     "metadata": {},
     "output_type": "execute_result"
    }
   ],
   "source": [
    "#shape of the data\n",
    "df.shape"
   ]
  },
  {
   "cell_type": "code",
   "execution_count": 6,
   "id": "4aaaa24f",
   "metadata": {},
   "outputs": [
    {
     "data": {
      "text/plain": [
       "['Make',\n",
       " 'Model',\n",
       " 'Year',\n",
       " 'Engine Fuel Type',\n",
       " 'Engine HP',\n",
       " 'Engine Cylinders',\n",
       " 'Transmission Type',\n",
       " 'Driven_Wheels',\n",
       " 'Number of Doors',\n",
       " 'Market Category',\n",
       " 'Vehicle Size',\n",
       " 'Vehicle Style',\n",
       " 'highway MPG',\n",
       " 'city mpg',\n",
       " 'Popularity',\n",
       " 'MSRP']"
      ]
     },
     "execution_count": 6,
     "metadata": {},
     "output_type": "execute_result"
    }
   ],
   "source": [
    "#Checking the columns\n",
    "df.columns.tolist()"
   ]
  },
  {
   "cell_type": "code",
   "execution_count": 7,
   "id": "8815de3c",
   "metadata": {},
   "outputs": [
    {
     "name": "stdout",
     "output_type": "stream",
     "text": [
      "<class 'pandas.core.frame.DataFrame'>\n",
      "RangeIndex: 11914 entries, 0 to 11913\n",
      "Data columns (total 16 columns):\n",
      " #   Column             Non-Null Count  Dtype  \n",
      "---  ------             --------------  -----  \n",
      " 0   Make               11914 non-null  object \n",
      " 1   Model              11914 non-null  object \n",
      " 2   Year               11914 non-null  int64  \n",
      " 3   Engine Fuel Type   11911 non-null  object \n",
      " 4   Engine HP          11845 non-null  float64\n",
      " 5   Engine Cylinders   11884 non-null  float64\n",
      " 6   Transmission Type  11914 non-null  object \n",
      " 7   Driven_Wheels      11914 non-null  object \n",
      " 8   Number of Doors    11908 non-null  float64\n",
      " 9   Market Category    8172 non-null   object \n",
      " 10  Vehicle Size       11914 non-null  object \n",
      " 11  Vehicle Style      11914 non-null  object \n",
      " 12  highway MPG        11914 non-null  int64  \n",
      " 13  city mpg           11914 non-null  int64  \n",
      " 14  Popularity         11914 non-null  int64  \n",
      " 15  MSRP               11914 non-null  int64  \n",
      "dtypes: float64(3), int64(5), object(8)\n",
      "memory usage: 1.5+ MB\n"
     ]
    }
   ],
   "source": [
    "#Information\n",
    "df.info()"
   ]
  },
  {
   "cell_type": "code",
   "execution_count": 8,
   "id": "2a90381f",
   "metadata": {},
   "outputs": [
    {
     "data": {
      "text/plain": [
       "Make                    0\n",
       "Model                   0\n",
       "Year                    0\n",
       "Engine Fuel Type        3\n",
       "Engine HP              69\n",
       "Engine Cylinders       30\n",
       "Transmission Type       0\n",
       "Driven_Wheels           0\n",
       "Number of Doors         6\n",
       "Market Category      3742\n",
       "Vehicle Size            0\n",
       "Vehicle Style           0\n",
       "highway MPG             0\n",
       "city mpg                0\n",
       "Popularity              0\n",
       "MSRP                    0\n",
       "dtype: int64"
      ]
     },
     "execution_count": 8,
     "metadata": {},
     "output_type": "execute_result"
    }
   ],
   "source": [
    "#Finding missing value if any\n",
    "df.isna().sum()"
   ]
  },
  {
   "cell_type": "code",
   "execution_count": 9,
   "id": "e64cce32",
   "metadata": {},
   "outputs": [
    {
     "data": {
      "text/html": [
       "<div>\n",
       "<style scoped>\n",
       "    .dataframe tbody tr th:only-of-type {\n",
       "        vertical-align: middle;\n",
       "    }\n",
       "\n",
       "    .dataframe tbody tr th {\n",
       "        vertical-align: top;\n",
       "    }\n",
       "\n",
       "    .dataframe thead th {\n",
       "        text-align: right;\n",
       "    }\n",
       "</style>\n",
       "<table border=\"1\" class=\"dataframe\">\n",
       "  <thead>\n",
       "    <tr style=\"text-align: right;\">\n",
       "      <th></th>\n",
       "      <th>Year</th>\n",
       "      <th>Engine HP</th>\n",
       "      <th>Engine Cylinders</th>\n",
       "      <th>Number of Doors</th>\n",
       "      <th>highway MPG</th>\n",
       "      <th>city mpg</th>\n",
       "      <th>Popularity</th>\n",
       "      <th>MSRP</th>\n",
       "    </tr>\n",
       "  </thead>\n",
       "  <tbody>\n",
       "    <tr>\n",
       "      <th>count</th>\n",
       "      <td>11914.000000</td>\n",
       "      <td>11845.00000</td>\n",
       "      <td>11884.000000</td>\n",
       "      <td>11908.000000</td>\n",
       "      <td>11914.000000</td>\n",
       "      <td>11914.000000</td>\n",
       "      <td>11914.000000</td>\n",
       "      <td>1.191400e+04</td>\n",
       "    </tr>\n",
       "    <tr>\n",
       "      <th>mean</th>\n",
       "      <td>2010.384338</td>\n",
       "      <td>249.38607</td>\n",
       "      <td>5.628829</td>\n",
       "      <td>3.436093</td>\n",
       "      <td>26.637485</td>\n",
       "      <td>19.733255</td>\n",
       "      <td>1554.911197</td>\n",
       "      <td>4.059474e+04</td>\n",
       "    </tr>\n",
       "    <tr>\n",
       "      <th>std</th>\n",
       "      <td>7.579740</td>\n",
       "      <td>109.19187</td>\n",
       "      <td>1.780559</td>\n",
       "      <td>0.881315</td>\n",
       "      <td>8.863001</td>\n",
       "      <td>8.987798</td>\n",
       "      <td>1441.855347</td>\n",
       "      <td>6.010910e+04</td>\n",
       "    </tr>\n",
       "    <tr>\n",
       "      <th>min</th>\n",
       "      <td>1990.000000</td>\n",
       "      <td>55.00000</td>\n",
       "      <td>0.000000</td>\n",
       "      <td>2.000000</td>\n",
       "      <td>12.000000</td>\n",
       "      <td>7.000000</td>\n",
       "      <td>2.000000</td>\n",
       "      <td>2.000000e+03</td>\n",
       "    </tr>\n",
       "    <tr>\n",
       "      <th>25%</th>\n",
       "      <td>2007.000000</td>\n",
       "      <td>170.00000</td>\n",
       "      <td>4.000000</td>\n",
       "      <td>2.000000</td>\n",
       "      <td>22.000000</td>\n",
       "      <td>16.000000</td>\n",
       "      <td>549.000000</td>\n",
       "      <td>2.100000e+04</td>\n",
       "    </tr>\n",
       "    <tr>\n",
       "      <th>50%</th>\n",
       "      <td>2015.000000</td>\n",
       "      <td>227.00000</td>\n",
       "      <td>6.000000</td>\n",
       "      <td>4.000000</td>\n",
       "      <td>26.000000</td>\n",
       "      <td>18.000000</td>\n",
       "      <td>1385.000000</td>\n",
       "      <td>2.999500e+04</td>\n",
       "    </tr>\n",
       "    <tr>\n",
       "      <th>75%</th>\n",
       "      <td>2016.000000</td>\n",
       "      <td>300.00000</td>\n",
       "      <td>6.000000</td>\n",
       "      <td>4.000000</td>\n",
       "      <td>30.000000</td>\n",
       "      <td>22.000000</td>\n",
       "      <td>2009.000000</td>\n",
       "      <td>4.223125e+04</td>\n",
       "    </tr>\n",
       "    <tr>\n",
       "      <th>max</th>\n",
       "      <td>2017.000000</td>\n",
       "      <td>1001.00000</td>\n",
       "      <td>16.000000</td>\n",
       "      <td>4.000000</td>\n",
       "      <td>354.000000</td>\n",
       "      <td>137.000000</td>\n",
       "      <td>5657.000000</td>\n",
       "      <td>2.065902e+06</td>\n",
       "    </tr>\n",
       "  </tbody>\n",
       "</table>\n",
       "</div>"
      ],
      "text/plain": [
       "               Year    Engine HP  Engine Cylinders  Number of Doors  \\\n",
       "count  11914.000000  11845.00000      11884.000000     11908.000000   \n",
       "mean    2010.384338    249.38607          5.628829         3.436093   \n",
       "std        7.579740    109.19187          1.780559         0.881315   \n",
       "min     1990.000000     55.00000          0.000000         2.000000   \n",
       "25%     2007.000000    170.00000          4.000000         2.000000   \n",
       "50%     2015.000000    227.00000          6.000000         4.000000   \n",
       "75%     2016.000000    300.00000          6.000000         4.000000   \n",
       "max     2017.000000   1001.00000         16.000000         4.000000   \n",
       "\n",
       "        highway MPG      city mpg    Popularity          MSRP  \n",
       "count  11914.000000  11914.000000  11914.000000  1.191400e+04  \n",
       "mean      26.637485     19.733255   1554.911197  4.059474e+04  \n",
       "std        8.863001      8.987798   1441.855347  6.010910e+04  \n",
       "min       12.000000      7.000000      2.000000  2.000000e+03  \n",
       "25%       22.000000     16.000000    549.000000  2.100000e+04  \n",
       "50%       26.000000     18.000000   1385.000000  2.999500e+04  \n",
       "75%       30.000000     22.000000   2009.000000  4.223125e+04  \n",
       "max      354.000000    137.000000   5657.000000  2.065902e+06  "
      ]
     },
     "execution_count": 9,
     "metadata": {},
     "output_type": "execute_result"
    }
   ],
   "source": [
    "#Statistical summary of data\n",
    "df.describe()"
   ]
  },
  {
   "cell_type": "code",
   "execution_count": 10,
   "id": "33eb30da",
   "metadata": {},
   "outputs": [
    {
     "data": {
      "text/html": [
       "<div>\n",
       "<style scoped>\n",
       "    .dataframe tbody tr th:only-of-type {\n",
       "        vertical-align: middle;\n",
       "    }\n",
       "\n",
       "    .dataframe tbody tr th {\n",
       "        vertical-align: top;\n",
       "    }\n",
       "\n",
       "    .dataframe thead th {\n",
       "        text-align: right;\n",
       "    }\n",
       "</style>\n",
       "<table border=\"1\" class=\"dataframe\">\n",
       "  <thead>\n",
       "    <tr style=\"text-align: right;\">\n",
       "      <th></th>\n",
       "      <th>Year</th>\n",
       "      <th>Engine HP</th>\n",
       "      <th>Engine Cylinders</th>\n",
       "      <th>Number of Doors</th>\n",
       "      <th>highway MPG</th>\n",
       "      <th>city mpg</th>\n",
       "      <th>Popularity</th>\n",
       "      <th>MSRP</th>\n",
       "    </tr>\n",
       "  </thead>\n",
       "  <tbody>\n",
       "    <tr>\n",
       "      <th>count</th>\n",
       "      <td>11914.000000</td>\n",
       "      <td>11845.00000</td>\n",
       "      <td>11884.000000</td>\n",
       "      <td>11908.000000</td>\n",
       "      <td>11914.000000</td>\n",
       "      <td>11914.000000</td>\n",
       "      <td>11914.000000</td>\n",
       "      <td>1.191400e+04</td>\n",
       "    </tr>\n",
       "    <tr>\n",
       "      <th>mean</th>\n",
       "      <td>2010.384338</td>\n",
       "      <td>249.38607</td>\n",
       "      <td>5.628829</td>\n",
       "      <td>3.436093</td>\n",
       "      <td>26.637485</td>\n",
       "      <td>19.733255</td>\n",
       "      <td>1554.911197</td>\n",
       "      <td>4.059474e+04</td>\n",
       "    </tr>\n",
       "    <tr>\n",
       "      <th>std</th>\n",
       "      <td>7.579740</td>\n",
       "      <td>109.19187</td>\n",
       "      <td>1.780559</td>\n",
       "      <td>0.881315</td>\n",
       "      <td>8.863001</td>\n",
       "      <td>8.987798</td>\n",
       "      <td>1441.855347</td>\n",
       "      <td>6.010910e+04</td>\n",
       "    </tr>\n",
       "    <tr>\n",
       "      <th>min</th>\n",
       "      <td>1990.000000</td>\n",
       "      <td>55.00000</td>\n",
       "      <td>0.000000</td>\n",
       "      <td>2.000000</td>\n",
       "      <td>12.000000</td>\n",
       "      <td>7.000000</td>\n",
       "      <td>2.000000</td>\n",
       "      <td>2.000000e+03</td>\n",
       "    </tr>\n",
       "    <tr>\n",
       "      <th>25%</th>\n",
       "      <td>2007.000000</td>\n",
       "      <td>170.00000</td>\n",
       "      <td>4.000000</td>\n",
       "      <td>2.000000</td>\n",
       "      <td>22.000000</td>\n",
       "      <td>16.000000</td>\n",
       "      <td>549.000000</td>\n",
       "      <td>2.100000e+04</td>\n",
       "    </tr>\n",
       "    <tr>\n",
       "      <th>50%</th>\n",
       "      <td>2015.000000</td>\n",
       "      <td>227.00000</td>\n",
       "      <td>6.000000</td>\n",
       "      <td>4.000000</td>\n",
       "      <td>26.000000</td>\n",
       "      <td>18.000000</td>\n",
       "      <td>1385.000000</td>\n",
       "      <td>2.999500e+04</td>\n",
       "    </tr>\n",
       "    <tr>\n",
       "      <th>75%</th>\n",
       "      <td>2016.000000</td>\n",
       "      <td>300.00000</td>\n",
       "      <td>6.000000</td>\n",
       "      <td>4.000000</td>\n",
       "      <td>30.000000</td>\n",
       "      <td>22.000000</td>\n",
       "      <td>2009.000000</td>\n",
       "      <td>4.223125e+04</td>\n",
       "    </tr>\n",
       "    <tr>\n",
       "      <th>max</th>\n",
       "      <td>2017.000000</td>\n",
       "      <td>1001.00000</td>\n",
       "      <td>16.000000</td>\n",
       "      <td>4.000000</td>\n",
       "      <td>354.000000</td>\n",
       "      <td>137.000000</td>\n",
       "      <td>5657.000000</td>\n",
       "      <td>2.065902e+06</td>\n",
       "    </tr>\n",
       "  </tbody>\n",
       "</table>\n",
       "</div>"
      ],
      "text/plain": [
       "               Year    Engine HP  Engine Cylinders  Number of Doors  \\\n",
       "count  11914.000000  11845.00000      11884.000000     11908.000000   \n",
       "mean    2010.384338    249.38607          5.628829         3.436093   \n",
       "std        7.579740    109.19187          1.780559         0.881315   \n",
       "min     1990.000000     55.00000          0.000000         2.000000   \n",
       "25%     2007.000000    170.00000          4.000000         2.000000   \n",
       "50%     2015.000000    227.00000          6.000000         4.000000   \n",
       "75%     2016.000000    300.00000          6.000000         4.000000   \n",
       "max     2017.000000   1001.00000         16.000000         4.000000   \n",
       "\n",
       "        highway MPG      city mpg    Popularity          MSRP  \n",
       "count  11914.000000  11914.000000  11914.000000  1.191400e+04  \n",
       "mean      26.637485     19.733255   1554.911197  4.059474e+04  \n",
       "std        8.863001      8.987798   1441.855347  6.010910e+04  \n",
       "min       12.000000      7.000000      2.000000  2.000000e+03  \n",
       "25%       22.000000     16.000000    549.000000  2.100000e+04  \n",
       "50%       26.000000     18.000000   1385.000000  2.999500e+04  \n",
       "75%       30.000000     22.000000   2009.000000  4.223125e+04  \n",
       "max      354.000000    137.000000   5657.000000  2.065902e+06  "
      ]
     },
     "execution_count": 10,
     "metadata": {},
     "output_type": "execute_result"
    }
   ],
   "source": [
    "#overall Statistics About data\n",
    "df.describe()"
   ]
  },
  {
   "cell_type": "code",
   "execution_count": 11,
   "id": "c8b19d69",
   "metadata": {},
   "outputs": [
    {
     "data": {
      "image/png": "[encoded data removed]",
      "text/plain": [
       "<Figure size 1000x1000 with 4 Axes>"
      ]
     },
     "metadata": {},
     "output_type": "display_data"
    }
   ],
   "source": [
    "freqgraph = df.select_dtypes(include = ['float'])\n",
    "freqgraph.hist(figsize = (10,10))\n",
    "plt.show()"
   ]
  },
  {
   "cell_type": "markdown",
   "id": "1f0833bd",
   "metadata": {},
   "source": [
    "# Data Preprocessing"
   ]
  },
  {
   "cell_type": "code",
   "execution_count": 12,
   "id": "a73bb5db",
   "metadata": {},
   "outputs": [
    {
     "data": {
      "text/plain": [
       "'regular unleaded'"
      ]
     },
     "execution_count": 12,
     "metadata": {},
     "output_type": "execute_result"
    }
   ],
   "source": [
    "#checking the mode of Engine Fuel Type\n",
    "df['Engine Fuel Type'].mode()[0]"
   ]
  },
  {
   "cell_type": "code",
   "execution_count": 13,
   "id": "b629a573",
   "metadata": {},
   "outputs": [],
   "source": [
    "#filling the missing values with mode\n",
    "df['Engine Fuel Type']=df['Engine Fuel Type'].fillna(df['Engine Fuel Type'].mode()[0])"
   ]
  },
  {
   "cell_type": "code",
   "execution_count": 14,
   "id": "91c88d3c",
   "metadata": {},
   "outputs": [
    {
     "data": {
      "text/plain": [
       "200.0"
      ]
     },
     "execution_count": 14,
     "metadata": {},
     "output_type": "execute_result"
    }
   ],
   "source": [
    "#checking the mode of Engine HP\n",
    "df['Engine HP'].mode()[0]"
   ]
  },
  {
   "cell_type": "code",
   "execution_count": 15,
   "id": "9afe1c8e",
   "metadata": {},
   "outputs": [],
   "source": [
    "#filling the missing values with mode\n",
    "df['Engine HP']=df['Engine HP'].fillna(df['Engine HP'].mode()[0])"
   ]
  },
  {
   "cell_type": "code",
   "execution_count": 16,
   "id": "e2ee7877",
   "metadata": {},
   "outputs": [
    {
     "data": {
      "text/plain": [
       "4.0"
      ]
     },
     "execution_count": 16,
     "metadata": {},
     "output_type": "execute_result"
    }
   ],
   "source": [
    "#checking the mode of Engine Cylinders\n",
    "df['Engine Cylinders'].mode()[0]"
   ]
  },
  {
   "cell_type": "code",
   "execution_count": 17,
   "id": "f16c3582",
   "metadata": {},
   "outputs": [],
   "source": [
    "#filling the missing values with mode\n",
    "df['Engine Cylinders']=df['Engine Cylinders'].fillna(df['Engine Cylinders'].mode()[0])"
   ]
  },
  {
   "cell_type": "code",
   "execution_count": 18,
   "id": "88b113ce",
   "metadata": {},
   "outputs": [
    {
     "data": {
      "text/plain": [
       "4.0"
      ]
     },
     "execution_count": 18,
     "metadata": {},
     "output_type": "execute_result"
    }
   ],
   "source": [
    "#checking the mode of Number of Doors\n",
    "df['Number of Doors'].mode()[0]"
   ]
  },
  {
   "cell_type": "code",
   "execution_count": 19,
   "id": "19c3e033",
   "metadata": {},
   "outputs": [],
   "source": [
    "#filling the missing values with mode\n",
    "df['Number of Doors']=df['Number of Doors'].fillna(df['Number of Doors'].mode()[0])"
   ]
  },
  {
   "cell_type": "code",
   "execution_count": 20,
   "id": "9084c94f",
   "metadata": {},
   "outputs": [
    {
     "data": {
      "text/plain": [
       "Crossover                                          1110\n",
       "Flex Fuel                                           872\n",
       "Luxury                                              855\n",
       "Luxury,Performance                                  673\n",
       "Hatchback                                           641\n",
       "                                                   ... \n",
       "Crossover,Exotic,Luxury,Performance                   1\n",
       "Exotic,Luxury,High-Performance,Hybrid                 1\n",
       "Crossover,Exotic,Luxury,High-Performance              1\n",
       "Flex Fuel,Factory Tuner,Luxury,High-Performance       1\n",
       "Performance,Hybrid                                    1\n",
       "Name: Market Category, Length: 71, dtype: int64"
      ]
     },
     "execution_count": 20,
     "metadata": {},
     "output_type": "execute_result"
    }
   ],
   "source": [
    "#value counts of Market Category\n",
    "df['Market Category'].value_counts()"
   ]
  },
  {
   "cell_type": "code",
   "execution_count": 21,
   "id": "b6ccbfcb",
   "metadata": {},
   "outputs": [
    {
     "data": {
      "text/plain": [
       "'Crossover'"
      ]
     },
     "execution_count": 21,
     "metadata": {},
     "output_type": "execute_result"
    }
   ],
   "source": [
    "#checking the mode of Engine Cylinders\n",
    "df['Market Category'].mode()[0]"
   ]
  },
  {
   "cell_type": "code",
   "execution_count": 22,
   "id": "80cf37d3",
   "metadata": {},
   "outputs": [],
   "source": [
    "#filling the missing values with mode\n",
    "df['Market Category']=df['Market Category'].fillna(df['Market Category'].mode()[0])"
   ]
  },
  {
   "cell_type": "code",
   "execution_count": 23,
   "id": "b55668e0",
   "metadata": {},
   "outputs": [
    {
     "data": {
      "text/plain": [
       "Make                 0\n",
       "Model                0\n",
       "Year                 0\n",
       "Engine Fuel Type     0\n",
       "Engine HP            0\n",
       "Engine Cylinders     0\n",
       "Transmission Type    0\n",
       "Driven_Wheels        0\n",
       "Number of Doors      0\n",
       "Market Category      0\n",
       "Vehicle Size         0\n",
       "Vehicle Style        0\n",
       "highway MPG          0\n",
       "city mpg             0\n",
       "Popularity           0\n",
       "MSRP                 0\n",
       "dtype: int64"
      ]
     },
     "execution_count": 23,
     "metadata": {},
     "output_type": "execute_result"
    }
   ],
   "source": [
    "#checking for missing value if any\n",
    "df.isna().sum()"
   ]
  },
  {
   "cell_type": "code",
   "execution_count": 24,
   "id": "e70263d4",
   "metadata": {},
   "outputs": [
    {
     "data": {
      "text/plain": [
       "<AxesSubplot:xlabel='Year', ylabel='Density'>"
      ]
     },
     "execution_count": 24,
     "metadata": {},
     "output_type": "execute_result"
    },
    {
     "data": {
      "image/png": "[encoded data removed]",
      "text/plain": [
       "<Figure size 640x480 with 1 Axes>"
      ]
     },
     "metadata": {},
     "output_type": "display_data"
    }
   ],
   "source": [
    "#distribution plot of total Year\n",
    "sns.distplot(df['Year'])"
   ]
  },
  {
   "cell_type": "code",
   "execution_count": 25,
   "id": "37c98702",
   "metadata": {},
   "outputs": [
    {
     "data": {
      "image/png": "[encoded data removed]",
      "text/plain": [
       "<Figure size 1500x800 with 6 Axes>"
      ]
     },
     "metadata": {},
     "output_type": "display_data"
    }
   ],
   "source": [
    "#Distribution for Car Features\n",
    "plt.figure(figsize=(15,8))\n",
    "plt.subplot(2,4,1)\n",
    "sns.distplot(df['Engine HP'],color = 'blue')\n",
    "plt.xlabel('Engine HP',fontsize = 12)\n",
    "plt.grid()\n",
    "\n",
    "plt.subplot(2,4,2)\n",
    "sns.distplot(df['Engine Cylinders'],color = 'orange')\n",
    "plt.xlabel('Engine Cylinders',fontsize = 12)\n",
    "plt.grid()\n",
    "\n",
    "plt.subplot(2,4,3)\n",
    "sns.distplot(df['Year'],color = 'green')\n",
    "plt.xlabel('Year',fontsize = 12)\n",
    "plt.grid()\n",
    "\n",
    "plt.subplot(2,4,4)\n",
    "sns.distplot(df['highway MPG'],color = 'black')\n",
    "plt.xlabel('Highway MPG',fontsize = 12)\n",
    "plt.grid()\n",
    "\n",
    "plt.subplot(2,4,5)\n",
    "sns.distplot(df['city mpg'],color = 'magenta')\n",
    "plt.xlabel('City MPG',fontsize = 12)\n",
    "plt.grid()\n",
    "\n",
    "plt.subplot(2,4,6)\n",
    "sns.distplot(df['Popularity'],color = 'cyan')\n",
    "plt.xlabel('Popularity',fontsize = 12)\n",
    "plt.grid()\n",
    "\n",
    "plt.suptitle('Distribution for Car Features', fontsize = 20)\n",
    "plt.show()"
   ]
  },
  {
   "cell_type": "code",
   "execution_count": 26,
   "id": "cdc6be92",
   "metadata": {},
   "outputs": [
    {
     "data": {
      "text/html": [
       "<div>\n",
       "<style scoped>\n",
       "    .dataframe tbody tr th:only-of-type {\n",
       "        vertical-align: middle;\n",
       "    }\n",
       "\n",
       "    .dataframe tbody tr th {\n",
       "        vertical-align: top;\n",
       "    }\n",
       "\n",
       "    .dataframe thead th {\n",
       "        text-align: right;\n",
       "    }\n",
       "</style>\n",
       "<table border=\"1\" class=\"dataframe\">\n",
       "  <thead>\n",
       "    <tr style=\"text-align: right;\">\n",
       "      <th></th>\n",
       "      <th>make</th>\n",
       "      <th>model</th>\n",
       "      <th>year</th>\n",
       "      <th>engine_fuel_type</th>\n",
       "      <th>engine_hp</th>\n",
       "      <th>engine_cylinders</th>\n",
       "      <th>transmission_type</th>\n",
       "      <th>driven_wheels</th>\n",
       "      <th>number_of_doors</th>\n",
       "      <th>market_category</th>\n",
       "      <th>vehicle_size</th>\n",
       "      <th>vehicle_style</th>\n",
       "      <th>highway_mpg</th>\n",
       "      <th>city_mpg</th>\n",
       "      <th>popularity</th>\n",
       "      <th>msrp</th>\n",
       "    </tr>\n",
       "  </thead>\n",
       "  <tbody>\n",
       "    <tr>\n",
       "      <th>0</th>\n",
       "      <td>BMW</td>\n",
       "      <td>1 Series M</td>\n",
       "      <td>2011</td>\n",
       "      <td>premium unleaded (required)</td>\n",
       "      <td>335.0</td>\n",
       "      <td>6.0</td>\n",
       "      <td>MANUAL</td>\n",
       "      <td>rear wheel drive</td>\n",
       "      <td>2.0</td>\n",
       "      <td>Factory Tuner,Luxury,High-Performance</td>\n",
       "      <td>Compact</td>\n",
       "      <td>Coupe</td>\n",
       "      <td>26</td>\n",
       "      <td>19</td>\n",
       "      <td>3916</td>\n",
       "      <td>46135</td>\n",
       "    </tr>\n",
       "    <tr>\n",
       "      <th>1</th>\n",
       "      <td>BMW</td>\n",
       "      <td>1 Series</td>\n",
       "      <td>2011</td>\n",
       "      <td>premium unleaded (required)</td>\n",
       "      <td>300.0</td>\n",
       "      <td>6.0</td>\n",
       "      <td>MANUAL</td>\n",
       "      <td>rear wheel drive</td>\n",
       "      <td>2.0</td>\n",
       "      <td>Luxury,Performance</td>\n",
       "      <td>Compact</td>\n",
       "      <td>Convertible</td>\n",
       "      <td>28</td>\n",
       "      <td>19</td>\n",
       "      <td>3916</td>\n",
       "      <td>40650</td>\n",
       "    </tr>\n",
       "    <tr>\n",
       "      <th>2</th>\n",
       "      <td>BMW</td>\n",
       "      <td>1 Series</td>\n",
       "      <td>2011</td>\n",
       "      <td>premium unleaded (required)</td>\n",
       "      <td>300.0</td>\n",
       "      <td>6.0</td>\n",
       "      <td>MANUAL</td>\n",
       "      <td>rear wheel drive</td>\n",
       "      <td>2.0</td>\n",
       "      <td>Luxury,High-Performance</td>\n",
       "      <td>Compact</td>\n",
       "      <td>Coupe</td>\n",
       "      <td>28</td>\n",
       "      <td>20</td>\n",
       "      <td>3916</td>\n",
       "      <td>36350</td>\n",
       "    </tr>\n",
       "    <tr>\n",
       "      <th>3</th>\n",
       "      <td>BMW</td>\n",
       "      <td>1 Series</td>\n",
       "      <td>2011</td>\n",
       "      <td>premium unleaded (required)</td>\n",
       "      <td>230.0</td>\n",
       "      <td>6.0</td>\n",
       "      <td>MANUAL</td>\n",
       "      <td>rear wheel drive</td>\n",
       "      <td>2.0</td>\n",
       "      <td>Luxury,Performance</td>\n",
       "      <td>Compact</td>\n",
       "      <td>Coupe</td>\n",
       "      <td>28</td>\n",
       "      <td>18</td>\n",
       "      <td>3916</td>\n",
       "      <td>29450</td>\n",
       "    </tr>\n",
       "    <tr>\n",
       "      <th>4</th>\n",
       "      <td>BMW</td>\n",
       "      <td>1 Series</td>\n",
       "      <td>2011</td>\n",
       "      <td>premium unleaded (required)</td>\n",
       "      <td>230.0</td>\n",
       "      <td>6.0</td>\n",
       "      <td>MANUAL</td>\n",
       "      <td>rear wheel drive</td>\n",
       "      <td>2.0</td>\n",
       "      <td>Luxury</td>\n",
       "      <td>Compact</td>\n",
       "      <td>Convertible</td>\n",
       "      <td>28</td>\n",
       "      <td>18</td>\n",
       "      <td>3916</td>\n",
       "      <td>34500</td>\n",
       "    </tr>\n",
       "  </tbody>\n",
       "</table>\n",
       "</div>"
      ],
      "text/plain": [
       "  make       model  year             engine_fuel_type  engine_hp  \\\n",
       "0  BMW  1 Series M  2011  premium unleaded (required)      335.0   \n",
       "1  BMW    1 Series  2011  premium unleaded (required)      300.0   \n",
       "2  BMW    1 Series  2011  premium unleaded (required)      300.0   \n",
       "3  BMW    1 Series  2011  premium unleaded (required)      230.0   \n",
       "4  BMW    1 Series  2011  premium unleaded (required)      230.0   \n",
       "\n",
       "   engine_cylinders transmission_type     driven_wheels  number_of_doors  \\\n",
       "0               6.0            MANUAL  rear wheel drive              2.0   \n",
       "1               6.0            MANUAL  rear wheel drive              2.0   \n",
       "2               6.0            MANUAL  rear wheel drive              2.0   \n",
       "3               6.0            MANUAL  rear wheel drive              2.0   \n",
       "4               6.0            MANUAL  rear wheel drive              2.0   \n",
       "\n",
       "                         market_category vehicle_size vehicle_style  \\\n",
       "0  Factory Tuner,Luxury,High-Performance      Compact         Coupe   \n",
       "1                     Luxury,Performance      Compact   Convertible   \n",
       "2                Luxury,High-Performance      Compact         Coupe   \n",
       "3                     Luxury,Performance      Compact         Coupe   \n",
       "4                                 Luxury      Compact   Convertible   \n",
       "\n",
       "   highway_mpg  city_mpg  popularity   msrp  \n",
       "0           26        19        3916  46135  \n",
       "1           28        19        3916  40650  \n",
       "2           28        20        3916  36350  \n",
       "3           28        18        3916  29450  \n",
       "4           28        18        3916  34500  "
      ]
     },
     "execution_count": 26,
     "metadata": {},
     "output_type": "execute_result"
    }
   ],
   "source": [
    "#Cleaning Strings in Columns Names\n",
    "df.columns = df.columns.str.lower().str.replace(\" \", \"_\")\n",
    "df.head()"
   ]
  },
  {
   "cell_type": "markdown",
   "id": "5471af98",
   "metadata": {},
   "source": [
    "# Checking Correlation between the variables"
   ]
  },
  {
   "cell_type": "code",
   "execution_count": 27,
   "id": "99fb0b2f",
   "metadata": {},
   "outputs": [
    {
     "data": {
      "text/html": [
       "<style type=\"text/css\">\n",
       "#T_c27ba_row0_col0, #T_c27ba_row1_col1, #T_c27ba_row2_col2, #T_c27ba_row3_col3, #T_c27ba_row4_col4, #T_c27ba_row5_col5, #T_c27ba_row6_col6, #T_c27ba_row7_col7 {\n",
       "  background-color: #000000;\n",
       "  color: #f1f1f1;\n",
       "}\n",
       "#T_c27ba_row0_col1 {\n",
       "  background-color: #955f3c;\n",
       "  color: #f1f1f1;\n",
       "}\n",
       "#T_c27ba_row0_col2, #T_c27ba_row0_col3 {\n",
       "  background-color: #cc8152;\n",
       "  color: #f1f1f1;\n",
       "}\n",
       "#T_c27ba_row0_col4 {\n",
       "  background-color: #925c3b;\n",
       "  color: #f1f1f1;\n",
       "}\n",
       "#T_c27ba_row0_col5 {\n",
       "  background-color: #a16641;\n",
       "  color: #f1f1f1;\n",
       "}\n",
       "#T_c27ba_row0_col6 {\n",
       "  background-color: #ffb170;\n",
       "  color: #000000;\n",
       "}\n",
       "#T_c27ba_row0_col7 {\n",
       "  background-color: #d28555;\n",
       "  color: #f1f1f1;\n",
       "}\n",
       "#T_c27ba_row1_col0 {\n",
       "  background-color: #c47c4f;\n",
       "  color: #f1f1f1;\n",
       "}\n",
       "#T_c27ba_row1_col2 {\n",
       "  background-color: #2c1c12;\n",
       "  color: #f1f1f1;\n",
       "}\n",
       "#T_c27ba_row1_col3 {\n",
       "  background-color: #ffc17b;\n",
       "  color: #000000;\n",
       "}\n",
       "#T_c27ba_row1_col4 {\n",
       "  background-color: #ffaa6c;\n",
       "  color: #000000;\n",
       "}\n",
       "#T_c27ba_row1_col5 {\n",
       "  background-color: #ffad6e;\n",
       "  color: #000000;\n",
       "}\n",
       "#T_c27ba_row1_col6, #T_c27ba_row6_col3 {\n",
       "  background-color: #ffb875;\n",
       "  color: #000000;\n",
       "}\n",
       "#T_c27ba_row1_col7, #T_c27ba_row7_col2 {\n",
       "  background-color: #5b3a25;\n",
       "  color: #f1f1f1;\n",
       "}\n",
       "#T_c27ba_row2_col0, #T_c27ba_row2_col3, #T_c27ba_row2_col4, #T_c27ba_row2_col5, #T_c27ba_row3_col6, #T_c27ba_row4_col1, #T_c27ba_row4_col2, #T_c27ba_row4_col7, #T_c27ba_row5_col1, #T_c27ba_row5_col7, #T_c27ba_row7_col6 {\n",
       "  background-color: #ffc77f;\n",
       "  color: #000000;\n",
       "}\n",
       "#T_c27ba_row2_col1 {\n",
       "  background-color: #352215;\n",
       "  color: #f1f1f1;\n",
       "}\n",
       "#T_c27ba_row2_col6 {\n",
       "  background-color: #ffb674;\n",
       "  color: #000000;\n",
       "}\n",
       "#T_c27ba_row2_col7 {\n",
       "  background-color: #7f5033;\n",
       "  color: #f1f1f1;\n",
       "}\n",
       "#T_c27ba_row3_col0, #T_c27ba_row6_col1 {\n",
       "  background-color: #de8d5a;\n",
       "  color: #f1f1f1;\n",
       "}\n",
       "#T_c27ba_row3_col1 {\n",
       "  background-color: #fea166;\n",
       "  color: #000000;\n",
       "}\n",
       "#T_c27ba_row3_col2 {\n",
       "  background-color: #e08d5a;\n",
       "  color: #f1f1f1;\n",
       "}\n",
       "#T_c27ba_row3_col4 {\n",
       "  background-color: #ad6d46;\n",
       "  color: #f1f1f1;\n",
       "}\n",
       "#T_c27ba_row3_col5 {\n",
       "  background-color: #af6f47;\n",
       "  color: #f1f1f1;\n",
       "}\n",
       "#T_c27ba_row3_col7 {\n",
       "  background-color: #ffc27b;\n",
       "  color: #000000;\n",
       "}\n",
       "#T_c27ba_row4_col0 {\n",
       "  background-color: #e18e5b;\n",
       "  color: #f1f1f1;\n",
       "}\n",
       "#T_c27ba_row4_col3, #T_c27ba_row5_col0, #T_c27ba_row5_col3 {\n",
       "  background-color: #f39a62;\n",
       "  color: #000000;\n",
       "}\n",
       "#T_c27ba_row4_col5, #T_c27ba_row5_col4 {\n",
       "  background-color: #160e09;\n",
       "  color: #f1f1f1;\n",
       "}\n",
       "#T_c27ba_row4_col6, #T_c27ba_row5_col2 {\n",
       "  background-color: #ffc37c;\n",
       "  color: #000000;\n",
       "}\n",
       "#T_c27ba_row5_col6 {\n",
       "  background-color: #ffbf79;\n",
       "  color: #000000;\n",
       "}\n",
       "#T_c27ba_row6_col0 {\n",
       "  background-color: #ffb171;\n",
       "  color: #000000;\n",
       "}\n",
       "#T_c27ba_row6_col2 {\n",
       "  background-color: #bc774c;\n",
       "  color: #f1f1f1;\n",
       "}\n",
       "#T_c27ba_row6_col4 {\n",
       "  background-color: #c87f51;\n",
       "  color: #f1f1f1;\n",
       "}\n",
       "#T_c27ba_row6_col5 {\n",
       "  background-color: #c97f51;\n",
       "  color: #f1f1f1;\n",
       "}\n",
       "#T_c27ba_row6_col7 {\n",
       "  background-color: #ffb473;\n",
       "  color: #000000;\n",
       "}\n",
       "#T_c27ba_row7_col0 {\n",
       "  background-color: #e9945e;\n",
       "  color: #f1f1f1;\n",
       "}\n",
       "#T_c27ba_row7_col1 {\n",
       "  background-color: #4e311f;\n",
       "  color: #f1f1f1;\n",
       "}\n",
       "#T_c27ba_row7_col3 {\n",
       "  background-color: #ffc57d;\n",
       "  color: #000000;\n",
       "}\n",
       "#T_c27ba_row7_col4 {\n",
       "  background-color: #e3905c;\n",
       "  color: #f1f1f1;\n",
       "}\n",
       "#T_c27ba_row7_col5 {\n",
       "  background-color: #e8935e;\n",
       "  color: #f1f1f1;\n",
       "}\n",
       "</style>\n",
       "<table id=\"T_c27ba\">\n",
       "  <thead>\n",
       "    <tr>\n",
       "      <th class=\"blank level0\" >&nbsp;</th>\n",
       "      <th id=\"T_c27ba_level0_col0\" class=\"col_heading level0 col0\" >year</th>\n",
       "      <th id=\"T_c27ba_level0_col1\" class=\"col_heading level0 col1\" >engine_hp</th>\n",
       "      <th id=\"T_c27ba_level0_col2\" class=\"col_heading level0 col2\" >engine_cylinders</th>\n",
       "      <th id=\"T_c27ba_level0_col3\" class=\"col_heading level0 col3\" >number_of_doors</th>\n",
       "      <th id=\"T_c27ba_level0_col4\" class=\"col_heading level0 col4\" >highway_mpg</th>\n",
       "      <th id=\"T_c27ba_level0_col5\" class=\"col_heading level0 col5\" >city_mpg</th>\n",
       "      <th id=\"T_c27ba_level0_col6\" class=\"col_heading level0 col6\" >popularity</th>\n",
       "      <th id=\"T_c27ba_level0_col7\" class=\"col_heading level0 col7\" >msrp</th>\n",
       "    </tr>\n",
       "  </thead>\n",
       "  <tbody>\n",
       "    <tr>\n",
       "      <th id=\"T_c27ba_level0_row0\" class=\"row_heading level0 row0\" >year</th>\n",
       "      <td id=\"T_c27ba_row0_col0\" class=\"data row0 col0\" >1.000000</td>\n",
       "      <td id=\"T_c27ba_row0_col1\" class=\"data row0 col1\" >0.349597</td>\n",
       "      <td id=\"T_c27ba_row0_col2\" class=\"data row0 col2\" >-0.041336</td>\n",
       "      <td id=\"T_c27ba_row0_col3\" class=\"data row0 col3\" >0.263946</td>\n",
       "      <td id=\"T_c27ba_row0_col4\" class=\"data row0 col4\" >0.258240</td>\n",
       "      <td id=\"T_c27ba_row0_col5\" class=\"data row0 col5\" >0.198171</td>\n",
       "      <td id=\"T_c27ba_row0_col6\" class=\"data row0 col6\" >0.073049</td>\n",
       "      <td id=\"T_c27ba_row0_col7\" class=\"data row0 col7\" >0.227590</td>\n",
       "    </tr>\n",
       "    <tr>\n",
       "      <th id=\"T_c27ba_level0_row1\" class=\"row_heading level0 row1\" >engine_hp</th>\n",
       "      <td id=\"T_c27ba_row1_col0\" class=\"data row1 col0\" >0.349597</td>\n",
       "      <td id=\"T_c27ba_row1_col1\" class=\"data row1 col1\" >1.000000</td>\n",
       "      <td id=\"T_c27ba_row1_col2\" class=\"data row1 col2\" >0.770188</td>\n",
       "      <td id=\"T_c27ba_row1_col3\" class=\"data row1 col3\" >-0.103662</td>\n",
       "      <td id=\"T_c27ba_row1_col4\" class=\"data row1 col4\" >-0.366710</td>\n",
       "      <td id=\"T_c27ba_row1_col5\" class=\"data row1 col5\" >-0.362922</td>\n",
       "      <td id=\"T_c27ba_row1_col6\" class=\"data row1 col6\" >0.036217</td>\n",
       "      <td id=\"T_c27ba_row1_col7\" class=\"data row1 col7\" >0.660896</td>\n",
       "    </tr>\n",
       "    <tr>\n",
       "      <th id=\"T_c27ba_level0_row2\" class=\"row_heading level0 row2\" >engine_cylinders</th>\n",
       "      <td id=\"T_c27ba_row2_col0\" class=\"data row2 col0\" >-0.041336</td>\n",
       "      <td id=\"T_c27ba_row2_col1\" class=\"data row2 col1\" >0.770188</td>\n",
       "      <td id=\"T_c27ba_row2_col2\" class=\"data row2 col2\" >1.000000</td>\n",
       "      <td id=\"T_c27ba_row2_col3\" class=\"data row2 col3\" >-0.141054</td>\n",
       "      <td id=\"T_c27ba_row2_col4\" class=\"data row2 col4\" >-0.607422</td>\n",
       "      <td id=\"T_c27ba_row2_col5\" class=\"data row2 col5\" >-0.574382</td>\n",
       "      <td id=\"T_c27ba_row2_col6\" class=\"data row2 col6\" >0.042431</td>\n",
       "      <td id=\"T_c27ba_row2_col7\" class=\"data row2 col7\" >0.531171</td>\n",
       "    </tr>\n",
       "    <tr>\n",
       "      <th id=\"T_c27ba_level0_row3\" class=\"row_heading level0 row3\" >number_of_doors</th>\n",
       "      <td id=\"T_c27ba_row3_col0\" class=\"data row3 col0\" >0.263946</td>\n",
       "      <td id=\"T_c27ba_row3_col1\" class=\"data row3 col1\" >-0.103662</td>\n",
       "      <td id=\"T_c27ba_row3_col2\" class=\"data row3 col2\" >-0.141054</td>\n",
       "      <td id=\"T_c27ba_row3_col3\" class=\"data row3 col3\" >1.000000</td>\n",
       "      <td id=\"T_c27ba_row3_col4\" class=\"data row3 col4\" >0.118925</td>\n",
       "      <td id=\"T_c27ba_row3_col5\" class=\"data row3 col5\" >0.121206</td>\n",
       "      <td id=\"T_c27ba_row3_col6\" class=\"data row3 col6\" >-0.048251</td>\n",
       "      <td id=\"T_c27ba_row3_col7\" class=\"data row3 col7\" >-0.126081</td>\n",
       "    </tr>\n",
       "    <tr>\n",
       "      <th id=\"T_c27ba_level0_row4\" class=\"row_heading level0 row4\" >highway_mpg</th>\n",
       "      <td id=\"T_c27ba_row4_col0\" class=\"data row4 col0\" >0.258240</td>\n",
       "      <td id=\"T_c27ba_row4_col1\" class=\"data row4 col1\" >-0.366710</td>\n",
       "      <td id=\"T_c27ba_row4_col2\" class=\"data row4 col2\" >-0.607422</td>\n",
       "      <td id=\"T_c27ba_row4_col3\" class=\"data row4 col3\" >0.118925</td>\n",
       "      <td id=\"T_c27ba_row4_col4\" class=\"data row4 col4\" >1.000000</td>\n",
       "      <td id=\"T_c27ba_row4_col5\" class=\"data row4 col5\" >0.886829</td>\n",
       "      <td id=\"T_c27ba_row4_col6\" class=\"data row4 col6\" >-0.020991</td>\n",
       "      <td id=\"T_c27ba_row4_col7\" class=\"data row4 col7\" >-0.160043</td>\n",
       "    </tr>\n",
       "    <tr>\n",
       "      <th id=\"T_c27ba_level0_row5\" class=\"row_heading level0 row5\" >city_mpg</th>\n",
       "      <td id=\"T_c27ba_row5_col0\" class=\"data row5 col0\" >0.198171</td>\n",
       "      <td id=\"T_c27ba_row5_col1\" class=\"data row5 col1\" >-0.362922</td>\n",
       "      <td id=\"T_c27ba_row5_col2\" class=\"data row5 col2\" >-0.574382</td>\n",
       "      <td id=\"T_c27ba_row5_col3\" class=\"data row5 col3\" >0.121206</td>\n",
       "      <td id=\"T_c27ba_row5_col4\" class=\"data row5 col4\" >0.886829</td>\n",
       "      <td id=\"T_c27ba_row5_col5\" class=\"data row5 col5\" >1.000000</td>\n",
       "      <td id=\"T_c27ba_row5_col6\" class=\"data row5 col6\" >-0.003217</td>\n",
       "      <td id=\"T_c27ba_row5_col7\" class=\"data row5 col7\" >-0.157676</td>\n",
       "    </tr>\n",
       "    <tr>\n",
       "      <th id=\"T_c27ba_level0_row6\" class=\"row_heading level0 row6\" >popularity</th>\n",
       "      <td id=\"T_c27ba_row6_col0\" class=\"data row6 col0\" >0.073049</td>\n",
       "      <td id=\"T_c27ba_row6_col1\" class=\"data row6 col1\" >0.036217</td>\n",
       "      <td id=\"T_c27ba_row6_col2\" class=\"data row6 col2\" >0.042431</td>\n",
       "      <td id=\"T_c27ba_row6_col3\" class=\"data row6 col3\" >-0.048251</td>\n",
       "      <td id=\"T_c27ba_row6_col4\" class=\"data row6 col4\" >-0.020991</td>\n",
       "      <td id=\"T_c27ba_row6_col5\" class=\"data row6 col5\" >-0.003217</td>\n",
       "      <td id=\"T_c27ba_row6_col6\" class=\"data row6 col6\" >1.000000</td>\n",
       "      <td id=\"T_c27ba_row6_col7\" class=\"data row6 col7\" >-0.048476</td>\n",
       "    </tr>\n",
       "    <tr>\n",
       "      <th id=\"T_c27ba_level0_row7\" class=\"row_heading level0 row7\" >msrp</th>\n",
       "      <td id=\"T_c27ba_row7_col0\" class=\"data row7 col0\" >0.227590</td>\n",
       "      <td id=\"T_c27ba_row7_col1\" class=\"data row7 col1\" >0.660896</td>\n",
       "      <td id=\"T_c27ba_row7_col2\" class=\"data row7 col2\" >0.531171</td>\n",
       "      <td id=\"T_c27ba_row7_col3\" class=\"data row7 col3\" >-0.126081</td>\n",
       "      <td id=\"T_c27ba_row7_col4\" class=\"data row7 col4\" >-0.160043</td>\n",
       "      <td id=\"T_c27ba_row7_col5\" class=\"data row7 col5\" >-0.157676</td>\n",
       "      <td id=\"T_c27ba_row7_col6\" class=\"data row7 col6\" >-0.048476</td>\n",
       "      <td id=\"T_c27ba_row7_col7\" class=\"data row7 col7\" >1.000000</td>\n",
       "    </tr>\n",
       "  </tbody>\n",
       "</table>\n"
      ],
      "text/plain": [
       "<pandas.io.formats.style.Styler at 0x230cef61df0>"
      ]
     },
     "execution_count": 27,
     "metadata": {},
     "output_type": "execute_result"
    }
   ],
   "source": [
    "#Correlation Matrix of Data\n",
    "df.corr().style.background_gradient(\"copper_r\")"
   ]
  },
  {
   "cell_type": "code",
   "execution_count": 28,
   "id": "02cdca6e",
   "metadata": {},
   "outputs": [
    {
     "data": {
      "text/plain": [
       "<AxesSubplot:>"
      ]
     },
     "execution_count": 28,
     "metadata": {},
     "output_type": "execute_result"
    },
    {
     "data": {
      "image/png": "[encoded data removed]",
      "text/plain": [
       "<Figure size 640x480 with 2 Axes>"
      ]
     },
     "metadata": {},
     "output_type": "display_data"
    }
   ],
   "source": [
    "#heatmap\n",
    "sns.heatmap(df.corr(),annot = True, lw = 0.1)"
   ]
  },
  {
   "cell_type": "markdown",
   "id": "cf9d26af",
   "metadata": {},
   "source": [
    "# Handling Categorical Data"
   ]
  },
  {
   "cell_type": "code",
   "execution_count": 29,
   "id": "393406c5",
   "metadata": {},
   "outputs": [
    {
     "data": {
      "text/plain": [
       "['make',\n",
       " 'model',\n",
       " 'engine_fuel_type',\n",
       " 'transmission_type',\n",
       " 'driven_wheels',\n",
       " 'market_category',\n",
       " 'vehicle_size',\n",
       " 'vehicle_style']"
      ]
     },
     "execution_count": 29,
     "metadata": {},
     "output_type": "execute_result"
    }
   ],
   "source": [
    "#List of Categorical Columns\n",
    "cat = list(df.dtypes[df.dtypes == 'object'].index)\n",
    "cat"
   ]
  },
  {
   "cell_type": "code",
   "execution_count": 30,
   "id": "ff5f09cd",
   "metadata": {},
   "outputs": [
    {
     "data": {
      "text/html": [
       "<div>\n",
       "<style scoped>\n",
       "    .dataframe tbody tr th:only-of-type {\n",
       "        vertical-align: middle;\n",
       "    }\n",
       "\n",
       "    .dataframe tbody tr th {\n",
       "        vertical-align: top;\n",
       "    }\n",
       "\n",
       "    .dataframe thead th {\n",
       "        text-align: right;\n",
       "    }\n",
       "</style>\n",
       "<table border=\"1\" class=\"dataframe\">\n",
       "  <thead>\n",
       "    <tr style=\"text-align: right;\">\n",
       "      <th></th>\n",
       "      <th>make</th>\n",
       "      <th>model</th>\n",
       "      <th>year</th>\n",
       "      <th>engine_fuel_type</th>\n",
       "      <th>engine_hp</th>\n",
       "      <th>engine_cylinders</th>\n",
       "      <th>transmission_type</th>\n",
       "      <th>driven_wheels</th>\n",
       "      <th>number_of_doors</th>\n",
       "      <th>market_category</th>\n",
       "      <th>vehicle_size</th>\n",
       "      <th>vehicle_style</th>\n",
       "      <th>highway_mpg</th>\n",
       "      <th>city_mpg</th>\n",
       "      <th>popularity</th>\n",
       "      <th>msrp</th>\n",
       "    </tr>\n",
       "  </thead>\n",
       "  <tbody>\n",
       "    <tr>\n",
       "      <th>0</th>\n",
       "      <td>bmw</td>\n",
       "      <td>1_series_m</td>\n",
       "      <td>2011</td>\n",
       "      <td>premium_unleaded_(required)</td>\n",
       "      <td>335.0</td>\n",
       "      <td>6.0</td>\n",
       "      <td>manual</td>\n",
       "      <td>rear_wheel_drive</td>\n",
       "      <td>2.0</td>\n",
       "      <td>factory_tuner,luxury,high-performance</td>\n",
       "      <td>compact</td>\n",
       "      <td>coupe</td>\n",
       "      <td>26</td>\n",
       "      <td>19</td>\n",
       "      <td>3916</td>\n",
       "      <td>46135</td>\n",
       "    </tr>\n",
       "    <tr>\n",
       "      <th>1</th>\n",
       "      <td>bmw</td>\n",
       "      <td>1_series</td>\n",
       "      <td>2011</td>\n",
       "      <td>premium_unleaded_(required)</td>\n",
       "      <td>300.0</td>\n",
       "      <td>6.0</td>\n",
       "      <td>manual</td>\n",
       "      <td>rear_wheel_drive</td>\n",
       "      <td>2.0</td>\n",
       "      <td>luxury,performance</td>\n",
       "      <td>compact</td>\n",
       "      <td>convertible</td>\n",
       "      <td>28</td>\n",
       "      <td>19</td>\n",
       "      <td>3916</td>\n",
       "      <td>40650</td>\n",
       "    </tr>\n",
       "    <tr>\n",
       "      <th>2</th>\n",
       "      <td>bmw</td>\n",
       "      <td>1_series</td>\n",
       "      <td>2011</td>\n",
       "      <td>premium_unleaded_(required)</td>\n",
       "      <td>300.0</td>\n",
       "      <td>6.0</td>\n",
       "      <td>manual</td>\n",
       "      <td>rear_wheel_drive</td>\n",
       "      <td>2.0</td>\n",
       "      <td>luxury,high-performance</td>\n",
       "      <td>compact</td>\n",
       "      <td>coupe</td>\n",
       "      <td>28</td>\n",
       "      <td>20</td>\n",
       "      <td>3916</td>\n",
       "      <td>36350</td>\n",
       "    </tr>\n",
       "    <tr>\n",
       "      <th>3</th>\n",
       "      <td>bmw</td>\n",
       "      <td>1_series</td>\n",
       "      <td>2011</td>\n",
       "      <td>premium_unleaded_(required)</td>\n",
       "      <td>230.0</td>\n",
       "      <td>6.0</td>\n",
       "      <td>manual</td>\n",
       "      <td>rear_wheel_drive</td>\n",
       "      <td>2.0</td>\n",
       "      <td>luxury,performance</td>\n",
       "      <td>compact</td>\n",
       "      <td>coupe</td>\n",
       "      <td>28</td>\n",
       "      <td>18</td>\n",
       "      <td>3916</td>\n",
       "      <td>29450</td>\n",
       "    </tr>\n",
       "    <tr>\n",
       "      <th>4</th>\n",
       "      <td>bmw</td>\n",
       "      <td>1_series</td>\n",
       "      <td>2011</td>\n",
       "      <td>premium_unleaded_(required)</td>\n",
       "      <td>230.0</td>\n",
       "      <td>6.0</td>\n",
       "      <td>manual</td>\n",
       "      <td>rear_wheel_drive</td>\n",
       "      <td>2.0</td>\n",
       "      <td>luxury</td>\n",
       "      <td>compact</td>\n",
       "      <td>convertible</td>\n",
       "      <td>28</td>\n",
       "      <td>18</td>\n",
       "      <td>3916</td>\n",
       "      <td>34500</td>\n",
       "    </tr>\n",
       "  </tbody>\n",
       "</table>\n",
       "</div>"
      ],
      "text/plain": [
       "  make       model  year             engine_fuel_type  engine_hp  \\\n",
       "0  bmw  1_series_m  2011  premium_unleaded_(required)      335.0   \n",
       "1  bmw    1_series  2011  premium_unleaded_(required)      300.0   \n",
       "2  bmw    1_series  2011  premium_unleaded_(required)      300.0   \n",
       "3  bmw    1_series  2011  premium_unleaded_(required)      230.0   \n",
       "4  bmw    1_series  2011  premium_unleaded_(required)      230.0   \n",
       "\n",
       "   engine_cylinders transmission_type     driven_wheels  number_of_doors  \\\n",
       "0               6.0            manual  rear_wheel_drive              2.0   \n",
       "1               6.0            manual  rear_wheel_drive              2.0   \n",
       "2               6.0            manual  rear_wheel_drive              2.0   \n",
       "3               6.0            manual  rear_wheel_drive              2.0   \n",
       "4               6.0            manual  rear_wheel_drive              2.0   \n",
       "\n",
       "                         market_category vehicle_size vehicle_style  \\\n",
       "0  factory_tuner,luxury,high-performance      compact         coupe   \n",
       "1                     luxury,performance      compact   convertible   \n",
       "2                luxury,high-performance      compact         coupe   \n",
       "3                     luxury,performance      compact         coupe   \n",
       "4                                 luxury      compact   convertible   \n",
       "\n",
       "   highway_mpg  city_mpg  popularity   msrp  \n",
       "0           26        19        3916  46135  \n",
       "1           28        19        3916  40650  \n",
       "2           28        20        3916  36350  \n",
       "3           28        18        3916  29450  \n",
       "4           28        18        3916  34500  "
      ]
     },
     "execution_count": 30,
     "metadata": {},
     "output_type": "execute_result"
    }
   ],
   "source": [
    "#Cleaning Categorical Data in our data set\n",
    "for col in cat:\n",
    "    df[col] = df[col].str.lower().str.replace(\" \", \"_\")\n",
    "    \n",
    "df.head()"
   ]
  },
  {
   "cell_type": "code",
   "execution_count": 31,
   "id": "f79a790e",
   "metadata": {},
   "outputs": [
    {
     "data": {
      "text/plain": [
       "array(['bmw', 'audi', 'fiat', 'mercedes-benz', 'chrysler', 'nissan',\n",
       "       'volvo', 'mazda', 'mitsubishi', 'ferrari', 'alfa_romeo', 'toyota',\n",
       "       'mclaren', 'maybach', 'pontiac', 'porsche', 'saab', 'gmc',\n",
       "       'hyundai', 'plymouth', 'honda', 'oldsmobile', 'suzuki', 'ford',\n",
       "       'cadillac', 'kia', 'bentley', 'chevrolet', 'dodge', 'lamborghini',\n",
       "       'lincoln', 'subaru', 'volkswagen', 'spyker', 'buick', 'acura',\n",
       "       'rolls-royce', 'maserati', 'lexus', 'aston_martin', 'land_rover',\n",
       "       'lotus', 'infiniti', 'scion', 'genesis', 'hummer', 'tesla',\n",
       "       'bugatti'], dtype=object)"
      ]
     },
     "execution_count": 31,
     "metadata": {},
     "output_type": "execute_result"
    }
   ],
   "source": [
    "df['make'].unique()"
   ]
  },
  {
   "cell_type": "code",
   "execution_count": 32,
   "id": "c0d3601d",
   "metadata": {},
   "outputs": [
    {
     "data": {
      "text/plain": [
       "array(['1_series_m', '1_series', '100', '124_spider', '190-class',\n",
       "       '2_series', '200', '200sx', '240sx', '240', '2',\n",
       "       '3_series_gran_turismo', '3_series', '300-class', '3000gt', '300',\n",
       "       '300m', '300zx', '323', '350-class', '350z', '360', '370z', '3',\n",
       "       '4_series_gran_coupe', '4_series', '400-class', '420-class',\n",
       "       '456m', '458_italia', '4c', '4runner', '5_series_gran_turismo',\n",
       "       '5_series', '500-class', '500e', '500', '500l', '500x', '550',\n",
       "       '560-class', '570s', '575m', '57', '599', '5',\n",
       "       '6_series_gran_coupe', '6_series', '600-class', '6000',\n",
       "       '612_scaglietti', '626', '62', '650s_coupe', '650s_spider', '6',\n",
       "       '7_series', '718_cayman', '740', '760', '780', '8_series', '80',\n",
       "       '850', '86', '9-2x', '9-3_griffin', '9-3', '9-4x', '9-5', '9-7x',\n",
       "       '9000', '900', '90', '911', '928', '929', '940', '944', '960',\n",
       "       '968', 'a3', 'a4_allroad', 'a4', 'a5', 'a6', 'a7', 'a8',\n",
       "       'acadia_limited', 'acadia', 'accent', 'acclaim',\n",
       "       'accord_crosstour', 'accord_hybrid', 'accord_plug-in_hybrid',\n",
       "       'accord', 'achieva', 'activehybrid_5', 'activehybrid_7',\n",
       "       'activehybrid_x6', 'aerio', 'aerostar', 'alero', 'allante',\n",
       "       'allroad_quattro', 'allroad', 'alpina_b6_gran_coupe', 'alpina_b7',\n",
       "       'alpina', 'altima_hybrid', 'altima', 'amanti', 'amg_gt', 'armada',\n",
       "       'arnage', 'aspen', 'aspire', 'astro_cargo', 'astro', 'ats_coupe',\n",
       "       'ats-v', 'ats', 'aurora', 'avalanche', 'avalon_hybrid', 'avalon',\n",
       "       'avenger', 'aventador', 'aveo', 'aviator', 'axxess', 'azera',\n",
       "       'aztek', 'azure_t', 'azure', 'b-class_electric_drive',\n",
       "       'b-series_pickup', 'b-series_truck', 'b-series', 'b9_tribeca',\n",
       "       'baja', 'beetle_convertible', 'beetle', 'beretta',\n",
       "       'black_diamond_avalanche', 'blackwood', 'blazer', 'bolt_ev',\n",
       "       'bonneville', 'borrego', 'boxster', 'bravada', 'breeze',\n",
       "       'bronco_ii', 'bronco', 'brooklands', 'brougham', 'brz', 'c-class',\n",
       "       'c-max_hybrid', 'c30', 'c36_amg', 'c43_amg', 'c70', 'c8',\n",
       "       'cabriolet', 'cabrio', 'cadenza', 'caliber', 'california_t',\n",
       "       'california', 'camaro', 'camry_hybrid', 'camry_solara', 'camry',\n",
       "       'canyon', 'caprice', 'captiva_sport', 'caravan', 'carrera_gt',\n",
       "       'cascada', 'catera', 'cavalier', 'cayenne', 'cayman_s', 'cayman',\n",
       "       'cc', 'celebrity', 'celica', 'century', 'challenger', 'charger',\n",
       "       'chevy_van', 'ciera', 'cirrus', 'city_express', 'civic_crx',\n",
       "       'civic_del_sol', 'civic', 'c/k_1500_series', 'c/k_2500_series',\n",
       "       'cl-class', 'cla-class', 'cl', 'classic', 'clk-class', 'cls-class',\n",
       "       'cobalt', 'colorado', 'colt', 'concorde',\n",
       "       'continental_flying_spur_speed', 'continental_flying_spur',\n",
       "       'continental_gt_speed_convertible', 'continental_gt_speed',\n",
       "       'continental_gt3-r', 'continental_gt', 'continental_gtc_speed',\n",
       "       'continental_gtc', 'continental_supersports_convertible',\n",
       "       'continental_supersports', 'continental', 'contour_svt', 'contour',\n",
       "       'corniche', 'corolla_im', 'corolla', 'corrado', 'corsica',\n",
       "       'corvette_stingray', 'corvette', 'coupe', 'cr-v', 'cr-z',\n",
       "       'cressida', 'crossfire', 'crosstour', 'crosstrek',\n",
       "       'crown_victoria', 'cruze_limited', 'cruze', 'ct_200h', 'ct6',\n",
       "       'cts_coupe', 'cts-v_coupe', 'cts-v_wagon', 'cts-v', 'cts_wagon',\n",
       "       'cts', 'cube', 'custom_cruiser', 'cutlass_calais', 'cutlass_ciera',\n",
       "       'cutlass_supreme', 'cutlass', 'cx-3', 'cx-5', 'cx-7', 'cx-9',\n",
       "       'dakota', 'dart', 'dawn', 'daytona', 'db7', 'db9_gt', 'db9', 'dbs',\n",
       "       'defender', 'deville', 'diablo', 'diamante', 'discovery_series_ii',\n",
       "       'discovery_sport', 'discovery', 'dts', 'durango', 'dynasty',\n",
       "       'e-150', 'e-250', 'e-class', 'e-golf', 'e-series_van',\n",
       "       'e-series_wagon', 'e55_amg', 'echo', 'eclipse_spyder', 'eclipse',\n",
       "       'edge', 'eighty-eight_royale', 'eighty-eight', 'elantra_coupe',\n",
       "       'elantra_gt', 'elantra_touring', 'elantra', 'eldorado', 'electra',\n",
       "       'element', 'elise', 'enclave', 'encore', 'endeavor', 'entourage',\n",
       "       'envision', 'envoy_xl', 'envoy_xuv', 'envoy', 'enzo', 'eos',\n",
       "       'equator', 'equinox', 'equus', 'es_250', 'es_300h', 'es_300',\n",
       "       'es_330', 'es_350', 'escalade_esv', 'escalade_ext',\n",
       "       'escalade_hybrid', 'escalade', 'escape_hybrid', 'escape', 'escort',\n",
       "       'esprit', 'estate_wagon', 'esteem', 'eurovan', 'evora_400',\n",
       "       'evora', 'ex35', 'excel', 'exige', 'ex', 'expedition',\n",
       "       'explorer_sport_trac', 'explorer_sport', 'explorer', 'expo',\n",
       "       'express_cargo', 'express', 'f-150_heritage',\n",
       "       'f-150_svt_lightning', 'f-150', 'f-250', 'f12_berlinetta', 'f430',\n",
       "       'festiva', 'ff', 'fiesta', 'firebird', 'fit_ev', 'fit',\n",
       "       'five_hundred', 'fj_cruiser', 'fleetwood', 'flex', 'flying_spur',\n",
       "       'focus_rs', 'focus_st', 'focus', 'forenza', 'forester', 'forte',\n",
       "       'fox', 'fr-s', 'freelander', 'freestar', 'freestyle', 'frontier',\n",
       "       'fusion_hybrid', 'fusion', 'fx35', 'fx45', 'fx50', 'fx', 'g-class',\n",
       "       'g_convertible', 'g_coupe', 'g_sedan', 'g20', 'g35',\n",
       "       'g37_convertible', 'g37_coupe', 'g37_sedan', 'g37', 'g3', 'g5',\n",
       "       'g6', 'g80', 'g8', 'galant', 'gallardo', 'genesis_coupe',\n",
       "       'genesis', 'ghibli', 'ghost_series_ii', 'ghost', 'gl-class',\n",
       "       'gla-class', 'glc-class', 'gle-class_coupe', 'gle-class', 'gli',\n",
       "       'glk-class', 'gls-class', 'golf_alltrack', 'golf_gti', 'golf_r',\n",
       "       'golf_sportwagen', 'golf', 'grand_am', 'grand_caravan',\n",
       "       'grand_prix', 'grand_vitara', 'grand_voyager', 'gransport',\n",
       "       'granturismo_convertible', 'granturismo', 'gs_200t', 'gs_300',\n",
       "       'gs_350', 'gs_400', 'gs_430', 'gs_450h', 'gs_460', 'gs_f', 'gt-r',\n",
       "       'gt', 'gti', 'gto', 'gx_460', 'gx_470', 'h3', 'h3t', 'hhr',\n",
       "       'highlander_hybrid', 'highlander', 'horizon', 'hr-v', 'hs_250h',\n",
       "       'huracan', 'i-miev', 'i30', 'i35', 'i3', 'ia', 'ilx_hybrid', 'ilx',\n",
       "       'impala_limited', 'impala', 'imperial', 'impreza_wrx', 'impreza',\n",
       "       'im', 'insight', 'integra', 'intrepid', 'intrigue', 'iq',\n",
       "       'is_200t', 'is_250_c', 'is_250', 'is_300', 'is_350_c', 'is_350',\n",
       "       'is_f', 'j30', 'jetta_gli', 'jetta_hybrid', 'jetta_sportwagen',\n",
       "       'jetta', 'jimmy', 'journey', 'juke', 'justy', 'jx', 'k900',\n",
       "       'kizashi', 'lacrosse', 'lancer_evolution', 'lancer_sportback',\n",
       "       'lancer', 'land_cruiser', 'landaulet', 'laser', 'le_baron',\n",
       "       'le_mans', 'leaf', 'legacy', 'legend', 'lesabre', 'levante', 'lfa',\n",
       "       'lhs', 'loyale', 'lr2', 'lr3', 'lr4', 'ls_400', 'ls_430', 'ls_460',\n",
       "       'ls_600h_l', 'ls', 'lss', 'ltd_crown_victoria', 'lucerne',\n",
       "       'lumina_minivan', 'lumina', 'lx_450', 'lx_470', 'lx_570',\n",
       "       'm-class', 'm2', 'm30', 'm35', 'm37', 'm3', 'm4_gts', 'm45', 'm4',\n",
       "       'm56', 'm5', 'm6_gran_coupe', 'm6', 'macan', 'magnum',\n",
       "       'malibu_classic', 'malibu_hybrid', 'malibu_limited', 'malibu_maxx',\n",
       "       'malibu', 'mark_lt', 'mark_viii', 'mark_vii', 'matrix', 'maxima',\n",
       "       'maybach', 'mazdaspeed_3', 'mazdaspeed_6', 'mazdaspeed_mx-5_miata',\n",
       "       'mazdaspeed_protege', 'm', 'mdx', 'metris', 'metro',\n",
       "       'mighty_max_pickup', 'millenia', 'mirage_g4', 'mirage', 'mkc',\n",
       "       'mks', 'mkt', 'mkx', 'mkz_hybrid', 'mkz', 'ml55_amg', 'model_s',\n",
       "       'monaco', 'montana_sv6', 'montana', 'monte_carlo', 'montero_sport',\n",
       "       'montero', 'mp4-12c', 'mpv', 'mr2_spyder', 'mr2', 'mulsanne',\n",
       "       'murano_crosscabriolet', 'murano', 'murcielago',\n",
       "       'mustang_svt_cobra', 'mustang', 'mx-3', 'mx-5_miata', 'mx-6',\n",
       "       'navajo', 'navigator', 'neon', 'new_beetle', 'new_yorker',\n",
       "       'ninety-eight', 'nitro', 'nsx', 'nv200', 'nx_200t', 'nx_300h',\n",
       "       'nx', 'odyssey', 'omni', 'optima_hybrid', 'optima', 'outback',\n",
       "       'outlander_sport', 'outlander', 'pacifica', 'panamera',\n",
       "       'park_avenue', 'park_ward', 'paseo', 'passat', 'passport',\n",
       "       'pathfinder', 'phaeton', 'phantom_coupe', 'phantom_drophead_coupe',\n",
       "       'phantom', 'pickup', 'pilot', 'precis', 'prelude', 'previa',\n",
       "       'prius_c', 'prius_prime', 'prius_v', 'prius', 'prizm', 'probe',\n",
       "       'protege5', 'protege', 'prowler', 'pt_cruiser', 'pulsar', 'q3',\n",
       "       'q40', 'q45', 'q50', 'q5', 'q60_convertible', 'q60_coupe', 'q70',\n",
       "       'q7', 'quattroporte', 'quest', 'qx4', 'qx50', 'qx56', 'qx60',\n",
       "       'qx70', 'qx80', 'qx', 'r-class', 'r32', 'r8', 'rabbit', 'raider',\n",
       "       'rainier', 'rally_wagon', 'ram_150', 'ram_250', 'ram_50_pickup',\n",
       "       'ram_cargo', 'ram_pickup_1500', 'ram_van', 'ram_wagon',\n",
       "       'ramcharger', 'range_rover_evoque', 'range_rover_sport',\n",
       "       'range_rover', 'ranger', 'rapide_s', 'rapide', 'rav4_ev',\n",
       "       'rav4_hybrid', 'rav4', 'rc_200t', 'rc_300', 'rc_350', 'rc_f',\n",
       "       'rdx', 'reatta', 'regal', 'regency', 'rendezvous', 'reno',\n",
       "       'reventon', 'ridgeline', 'rio', 'riviera', 'rl', 'rlx',\n",
       "       'roadmaster', 'rogue_select', 'rogue', 'rondo', 'routan', 'rs_4',\n",
       "       'rs_5', 'rs_6', 'rs_7', 'rsx', 'rx_300', 'rx_330', 'rx_350',\n",
       "       'rx_400h', 'rx_450h', 'rx-7', 'rx-8', 's-10_blazer', 's-10',\n",
       "       's-15_jimmy', 's-15', 's-class', 's2000', 's3', 's40', 's4', 's5',\n",
       "       's60_cross_country', 's60', 's6', 's70', 's7', 's80', 's8', 's90',\n",
       "       'safari_cargo', 'safari', 'samurai', 'santa_fe_sport', 'santa_fe',\n",
       "       'savana_cargo', 'savana', 'sc_300', 'sc_400', 'sc_430', 'scoupe',\n",
       "       'sebring', 'sedona', 'sentra', 'sephia', 'sequoia', 'seville',\n",
       "       'shadow', 'shelby_gt350', 'shelby_gt500', 'sidekick', 'sienna',\n",
       "       'sierra_1500_classic', 'sierra_1500_hybrid', 'sierra_1500',\n",
       "       'sierra_1500hd', 'sierra_c3', 'sierra_classic_1500', 'sigma',\n",
       "       'silhouette', 'silver_seraph', 'silverado_1500_classic',\n",
       "       'silverado_1500_hybrid', 'silverado_1500', 'sixty_special',\n",
       "       'skylark', 'sl-class', 'slc-class', 'slk-class', 'slr_mclaren',\n",
       "       'sls_amg_gt_final_edition', 'sls_amg_gt', 'sls_amg', 'slx',\n",
       "       'solstice', 'sonata_hybrid', 'sonata', 'sonic', 'sonoma',\n",
       "       'sorento', 'soul_ev', 'soul', 'spark_ev', 'spark', 'spectra',\n",
       "       'spirit', 'sportage', 'sportvan', 'spyder', 'sq5', 'srt_viper',\n",
       "       'srx', 'ss', 'ssr', 'stanza', 'stealth', 'stratus', 'sts-v', 'sts',\n",
       "       'suburban', 'sunbird', 'sundance', 'sunfire', 'superamerica',\n",
       "       'supersports_convertible_isr', 'supra', 'svx', 'swift', 'sx4',\n",
       "       'syclone', 't100', 'tacoma', 'tahoe_hybrid', 'tahoe_limited/z71',\n",
       "       'tahoe', 'taurus_x', 'taurus', 'tc', 'tempo', 'tercel', 'terrain',\n",
       "       'terraza', 'thunderbird', 'tiburon', 'tiguan', 'titan', 'tl',\n",
       "       'tlx', 'toronado', 'torrent', 'touareg_2', 'touareg',\n",
       "       'town_and_country', 'town_car', 'tracker', 'trailblazer_ext',\n",
       "       'trailblazer', 'trans_sport', 'transit_connect', 'transit_wagon',\n",
       "       'traverse', 'trax', 'tribeca', 'tribute_hybrid', 'tribute',\n",
       "       'truck', 'tsx_sport_wagon', 'tsx', 'tt_rs', 'tt', 'tts', 'tucson',\n",
       "       'tundra', 'typhoon', 'uplander', 'v12_vanquish', 'v12_vantage_s',\n",
       "       'v12_vantage', 'v40', 'v50', 'v60_cross_country', 'v60', 'v70',\n",
       "       'v8_vantage', 'v8', 'v90', 'vanagon', 'vandura', 'van', 'vanquish',\n",
       "       'vanwagon', 'veloster', 'venture', 'venza', 'veracruz', 'verano',\n",
       "       'verona', 'versa_note', 'versa', 'veyron_16.4', 'vibe', 'vigor',\n",
       "       'viper', 'virage', 'vitara', 'voyager', 'windstar_cargo',\n",
       "       'windstar', 'wraith', 'wrx', 'x-90', 'x1', 'x3', 'x4', 'x5_m',\n",
       "       'x5', 'x6_m', 'x6', 'xa', 'xb', 'xc60', 'xc70', 'xc90', 'xc', 'xd',\n",
       "       'xg300', 'xg350', 'xl-7', 'xl7', 'xlr-v', 'xlr', 'xt5', 'xterra',\n",
       "       'xts', 'xt', 'xv_crosstrek', 'yaris_ia', 'yaris', 'yukon_denali',\n",
       "       'yukon_hybrid', 'yukon_xl', 'yukon', 'z3', 'z4_m', 'z4', 'z8',\n",
       "       'zdx', 'zephyr'], dtype=object)"
      ]
     },
     "execution_count": 32,
     "metadata": {},
     "output_type": "execute_result"
    }
   ],
   "source": [
    "df['model'].unique()"
   ]
  },
  {
   "cell_type": "code",
   "execution_count": 33,
   "id": "8af35d32",
   "metadata": {},
   "outputs": [
    {
     "data": {
      "text/plain": [
       "array(['premium_unleaded_(required)', 'regular_unleaded',\n",
       "       'premium_unleaded_(recommended)', 'flex-fuel_(unleaded/e85)',\n",
       "       'diesel', 'electric',\n",
       "       'flex-fuel_(premium_unleaded_recommended/e85)', 'natural_gas',\n",
       "       'flex-fuel_(premium_unleaded_required/e85)',\n",
       "       'flex-fuel_(unleaded/natural_gas)'], dtype=object)"
      ]
     },
     "execution_count": 33,
     "metadata": {},
     "output_type": "execute_result"
    }
   ],
   "source": [
    "df['engine_fuel_type'].unique()"
   ]
  },
  {
   "cell_type": "code",
   "execution_count": 34,
   "id": "f1b3acaf",
   "metadata": {},
   "outputs": [
    {
     "data": {
      "text/plain": [
       "array(['manual', 'automatic', 'automated_manual', 'direct_drive',\n",
       "       'unknown'], dtype=object)"
      ]
     },
     "execution_count": 34,
     "metadata": {},
     "output_type": "execute_result"
    }
   ],
   "source": [
    "df['transmission_type'].unique()"
   ]
  },
  {
   "cell_type": "code",
   "execution_count": 35,
   "id": "f83a55bc",
   "metadata": {},
   "outputs": [
    {
     "data": {
      "text/plain": [
       "array(['factory_tuner,luxury,high-performance', 'luxury,performance',\n",
       "       'luxury,high-performance', 'luxury', 'performance', 'flex_fuel',\n",
       "       'flex_fuel,performance', 'crossover', 'hatchback',\n",
       "       'hatchback,luxury,performance', 'hatchback,luxury',\n",
       "       'luxury,high-performance,hybrid', 'diesel,luxury',\n",
       "       'hatchback,performance', 'hatchback,factory_tuner,performance',\n",
       "       'high-performance', 'factory_tuner,high-performance',\n",
       "       'exotic,high-performance', 'exotic,factory_tuner,high-performance',\n",
       "       'factory_tuner,performance', 'exotic,luxury',\n",
       "       'exotic,luxury,high-performance', 'exotic,luxury,performance',\n",
       "       'factory_tuner,luxury,performance', 'flex_fuel,luxury',\n",
       "       'crossover,luxury', 'hatchback,factory_tuner,luxury,performance',\n",
       "       'crossover,hatchback', 'hybrid', 'luxury,performance,hybrid',\n",
       "       'crossover,luxury,performance,hybrid',\n",
       "       'crossover,luxury,performance',\n",
       "       'exotic,factory_tuner,luxury,high-performance',\n",
       "       'flex_fuel,luxury,high-performance', 'crossover,flex_fuel',\n",
       "       'diesel', 'hatchback,diesel', 'crossover,luxury,diesel',\n",
       "       'crossover,luxury,high-performance',\n",
       "       'exotic,flex_fuel,factory_tuner,luxury,high-performance',\n",
       "       'exotic,flex_fuel,luxury,high-performance',\n",
       "       'exotic,factory_tuner,luxury,performance', 'hatchback,hybrid',\n",
       "       'crossover,hybrid', 'hatchback,luxury,hybrid',\n",
       "       'flex_fuel,luxury,performance', 'crossover,performance',\n",
       "       'luxury,hybrid', 'crossover,flex_fuel,luxury,performance',\n",
       "       'crossover,flex_fuel,luxury', 'crossover,flex_fuel,performance',\n",
       "       'hatchback,factory_tuner,high-performance', 'hatchback,flex_fuel',\n",
       "       'factory_tuner,luxury',\n",
       "       'crossover,factory_tuner,luxury,high-performance',\n",
       "       'crossover,factory_tuner,luxury,performance',\n",
       "       'crossover,hatchback,factory_tuner,performance',\n",
       "       'crossover,hatchback,performance', 'flex_fuel,hybrid',\n",
       "       'flex_fuel,performance,hybrid',\n",
       "       'crossover,exotic,luxury,high-performance',\n",
       "       'crossover,exotic,luxury,performance', 'exotic,performance',\n",
       "       'exotic,luxury,high-performance,hybrid', 'crossover,luxury,hybrid',\n",
       "       'flex_fuel,factory_tuner,luxury,high-performance',\n",
       "       'performance,hybrid', 'crossover,factory_tuner,performance',\n",
       "       'crossover,diesel', 'flex_fuel,diesel',\n",
       "       'crossover,hatchback,luxury'], dtype=object)"
      ]
     },
     "execution_count": 35,
     "metadata": {},
     "output_type": "execute_result"
    }
   ],
   "source": [
    "df['market_category'].unique()"
   ]
  },
  {
   "cell_type": "code",
   "execution_count": 36,
   "id": "90b5fc65",
   "metadata": {},
   "outputs": [
    {
     "data": {
      "text/plain": [
       "array(['compact', 'midsize', 'large'], dtype=object)"
      ]
     },
     "execution_count": 36,
     "metadata": {},
     "output_type": "execute_result"
    }
   ],
   "source": [
    "df['vehicle_size'].unique()"
   ]
  },
  {
   "cell_type": "code",
   "execution_count": 37,
   "id": "6fb2cb8b",
   "metadata": {},
   "outputs": [
    {
     "data": {
      "text/plain": [
       "array(['coupe', 'convertible', 'sedan', 'wagon', '4dr_hatchback',\n",
       "       '2dr_hatchback', '4dr_suv', 'passenger_minivan', 'cargo_minivan',\n",
       "       'crew_cab_pickup', 'regular_cab_pickup', 'extended_cab_pickup',\n",
       "       '2dr_suv', 'cargo_van', 'convertible_suv', 'passenger_van'],\n",
       "      dtype=object)"
      ]
     },
     "execution_count": 37,
     "metadata": {},
     "output_type": "execute_result"
    }
   ],
   "source": [
    "df['vehicle_style'].unique()"
   ]
  },
  {
   "cell_type": "code",
   "execution_count": 38,
   "id": "ef0cd7fb",
   "metadata": {},
   "outputs": [
    {
     "data": {
      "text/plain": [
       "(11895, 16)"
      ]
     },
     "execution_count": 38,
     "metadata": {},
     "output_type": "execute_result"
    }
   ],
   "source": [
    "#handling 'unknown' values in 'transmission_type' column\n",
    "df.drop(df.loc[df['transmission_type']=='unknown'].index, inplace=True)\n",
    "df.shape"
   ]
  },
  {
   "cell_type": "code",
   "execution_count": 39,
   "id": "9b1dbc81",
   "metadata": {},
   "outputs": [
    {
     "data": {
      "text/html": [
       "<div>\n",
       "<style scoped>\n",
       "    .dataframe tbody tr th:only-of-type {\n",
       "        vertical-align: middle;\n",
       "    }\n",
       "\n",
       "    .dataframe tbody tr th {\n",
       "        vertical-align: top;\n",
       "    }\n",
       "\n",
       "    .dataframe thead th {\n",
       "        text-align: right;\n",
       "    }\n",
       "</style>\n",
       "<table border=\"1\" class=\"dataframe\">\n",
       "  <thead>\n",
       "    <tr style=\"text-align: right;\">\n",
       "      <th></th>\n",
       "      <th>make</th>\n",
       "      <th>model</th>\n",
       "      <th>year</th>\n",
       "      <th>engine_fuel_type</th>\n",
       "      <th>engine_hp</th>\n",
       "      <th>engine_cylinders</th>\n",
       "      <th>transmission_type</th>\n",
       "      <th>driven_wheels</th>\n",
       "      <th>number_of_doors</th>\n",
       "      <th>market_category</th>\n",
       "      <th>vehicle_size</th>\n",
       "      <th>vehicle_style</th>\n",
       "      <th>highway_mpg</th>\n",
       "      <th>city_mpg</th>\n",
       "      <th>popularity</th>\n",
       "      <th>msrp</th>\n",
       "    </tr>\n",
       "  </thead>\n",
       "  <tbody>\n",
       "    <tr>\n",
       "      <th>0</th>\n",
       "      <td>bmw</td>\n",
       "      <td>1_series_m</td>\n",
       "      <td>2011</td>\n",
       "      <td>premium_unleaded_(required)</td>\n",
       "      <td>335.0</td>\n",
       "      <td>6.0</td>\n",
       "      <td>manual</td>\n",
       "      <td>rear_wheel_drive</td>\n",
       "      <td>2.0</td>\n",
       "      <td>factory_tuner,luxury,high-performance</td>\n",
       "      <td>compact</td>\n",
       "      <td>coupe</td>\n",
       "      <td>26</td>\n",
       "      <td>19</td>\n",
       "      <td>3916</td>\n",
       "      <td>46135</td>\n",
       "    </tr>\n",
       "    <tr>\n",
       "      <th>1</th>\n",
       "      <td>bmw</td>\n",
       "      <td>1_series</td>\n",
       "      <td>2011</td>\n",
       "      <td>premium_unleaded_(required)</td>\n",
       "      <td>300.0</td>\n",
       "      <td>6.0</td>\n",
       "      <td>manual</td>\n",
       "      <td>rear_wheel_drive</td>\n",
       "      <td>2.0</td>\n",
       "      <td>luxury,performance</td>\n",
       "      <td>compact</td>\n",
       "      <td>convertible</td>\n",
       "      <td>28</td>\n",
       "      <td>19</td>\n",
       "      <td>3916</td>\n",
       "      <td>40650</td>\n",
       "    </tr>\n",
       "    <tr>\n",
       "      <th>2</th>\n",
       "      <td>bmw</td>\n",
       "      <td>1_series</td>\n",
       "      <td>2011</td>\n",
       "      <td>premium_unleaded_(required)</td>\n",
       "      <td>300.0</td>\n",
       "      <td>6.0</td>\n",
       "      <td>manual</td>\n",
       "      <td>rear_wheel_drive</td>\n",
       "      <td>2.0</td>\n",
       "      <td>luxury,high-performance</td>\n",
       "      <td>compact</td>\n",
       "      <td>coupe</td>\n",
       "      <td>28</td>\n",
       "      <td>20</td>\n",
       "      <td>3916</td>\n",
       "      <td>36350</td>\n",
       "    </tr>\n",
       "    <tr>\n",
       "      <th>3</th>\n",
       "      <td>bmw</td>\n",
       "      <td>1_series</td>\n",
       "      <td>2011</td>\n",
       "      <td>premium_unleaded_(required)</td>\n",
       "      <td>230.0</td>\n",
       "      <td>6.0</td>\n",
       "      <td>manual</td>\n",
       "      <td>rear_wheel_drive</td>\n",
       "      <td>2.0</td>\n",
       "      <td>luxury,performance</td>\n",
       "      <td>compact</td>\n",
       "      <td>coupe</td>\n",
       "      <td>28</td>\n",
       "      <td>18</td>\n",
       "      <td>3916</td>\n",
       "      <td>29450</td>\n",
       "    </tr>\n",
       "    <tr>\n",
       "      <th>4</th>\n",
       "      <td>bmw</td>\n",
       "      <td>1_series</td>\n",
       "      <td>2011</td>\n",
       "      <td>premium_unleaded_(required)</td>\n",
       "      <td>230.0</td>\n",
       "      <td>6.0</td>\n",
       "      <td>manual</td>\n",
       "      <td>rear_wheel_drive</td>\n",
       "      <td>2.0</td>\n",
       "      <td>luxury</td>\n",
       "      <td>compact</td>\n",
       "      <td>convertible</td>\n",
       "      <td>28</td>\n",
       "      <td>18</td>\n",
       "      <td>3916</td>\n",
       "      <td>34500</td>\n",
       "    </tr>\n",
       "    <tr>\n",
       "      <th>...</th>\n",
       "      <td>...</td>\n",
       "      <td>...</td>\n",
       "      <td>...</td>\n",
       "      <td>...</td>\n",
       "      <td>...</td>\n",
       "      <td>...</td>\n",
       "      <td>...</td>\n",
       "      <td>...</td>\n",
       "      <td>...</td>\n",
       "      <td>...</td>\n",
       "      <td>...</td>\n",
       "      <td>...</td>\n",
       "      <td>...</td>\n",
       "      <td>...</td>\n",
       "      <td>...</td>\n",
       "      <td>...</td>\n",
       "    </tr>\n",
       "    <tr>\n",
       "      <th>11890</th>\n",
       "      <td>acura</td>\n",
       "      <td>zdx</td>\n",
       "      <td>2012</td>\n",
       "      <td>premium_unleaded_(required)</td>\n",
       "      <td>300.0</td>\n",
       "      <td>6.0</td>\n",
       "      <td>automatic</td>\n",
       "      <td>all_wheel_drive</td>\n",
       "      <td>4.0</td>\n",
       "      <td>crossover,hatchback,luxury</td>\n",
       "      <td>midsize</td>\n",
       "      <td>4dr_hatchback</td>\n",
       "      <td>23</td>\n",
       "      <td>16</td>\n",
       "      <td>204</td>\n",
       "      <td>46120</td>\n",
       "    </tr>\n",
       "    <tr>\n",
       "      <th>11891</th>\n",
       "      <td>acura</td>\n",
       "      <td>zdx</td>\n",
       "      <td>2012</td>\n",
       "      <td>premium_unleaded_(required)</td>\n",
       "      <td>300.0</td>\n",
       "      <td>6.0</td>\n",
       "      <td>automatic</td>\n",
       "      <td>all_wheel_drive</td>\n",
       "      <td>4.0</td>\n",
       "      <td>crossover,hatchback,luxury</td>\n",
       "      <td>midsize</td>\n",
       "      <td>4dr_hatchback</td>\n",
       "      <td>23</td>\n",
       "      <td>16</td>\n",
       "      <td>204</td>\n",
       "      <td>56670</td>\n",
       "    </tr>\n",
       "    <tr>\n",
       "      <th>11892</th>\n",
       "      <td>acura</td>\n",
       "      <td>zdx</td>\n",
       "      <td>2012</td>\n",
       "      <td>premium_unleaded_(required)</td>\n",
       "      <td>300.0</td>\n",
       "      <td>6.0</td>\n",
       "      <td>automatic</td>\n",
       "      <td>all_wheel_drive</td>\n",
       "      <td>4.0</td>\n",
       "      <td>crossover,hatchback,luxury</td>\n",
       "      <td>midsize</td>\n",
       "      <td>4dr_hatchback</td>\n",
       "      <td>23</td>\n",
       "      <td>16</td>\n",
       "      <td>204</td>\n",
       "      <td>50620</td>\n",
       "    </tr>\n",
       "    <tr>\n",
       "      <th>11893</th>\n",
       "      <td>acura</td>\n",
       "      <td>zdx</td>\n",
       "      <td>2013</td>\n",
       "      <td>premium_unleaded_(recommended)</td>\n",
       "      <td>300.0</td>\n",
       "      <td>6.0</td>\n",
       "      <td>automatic</td>\n",
       "      <td>all_wheel_drive</td>\n",
       "      <td>4.0</td>\n",
       "      <td>crossover,hatchback,luxury</td>\n",
       "      <td>midsize</td>\n",
       "      <td>4dr_hatchback</td>\n",
       "      <td>23</td>\n",
       "      <td>16</td>\n",
       "      <td>204</td>\n",
       "      <td>50920</td>\n",
       "    </tr>\n",
       "    <tr>\n",
       "      <th>11894</th>\n",
       "      <td>lincoln</td>\n",
       "      <td>zephyr</td>\n",
       "      <td>2006</td>\n",
       "      <td>regular_unleaded</td>\n",
       "      <td>221.0</td>\n",
       "      <td>6.0</td>\n",
       "      <td>automatic</td>\n",
       "      <td>front_wheel_drive</td>\n",
       "      <td>4.0</td>\n",
       "      <td>luxury</td>\n",
       "      <td>midsize</td>\n",
       "      <td>sedan</td>\n",
       "      <td>26</td>\n",
       "      <td>17</td>\n",
       "      <td>61</td>\n",
       "      <td>28995</td>\n",
       "    </tr>\n",
       "  </tbody>\n",
       "</table>\n",
       "<p>11895 rows × 16 columns</p>\n",
       "</div>"
      ],
      "text/plain": [
       "          make       model  year                engine_fuel_type  engine_hp  \\\n",
       "0          bmw  1_series_m  2011     premium_unleaded_(required)      335.0   \n",
       "1          bmw    1_series  2011     premium_unleaded_(required)      300.0   \n",
       "2          bmw    1_series  2011     premium_unleaded_(required)      300.0   \n",
       "3          bmw    1_series  2011     premium_unleaded_(required)      230.0   \n",
       "4          bmw    1_series  2011     premium_unleaded_(required)      230.0   \n",
       "...        ...         ...   ...                             ...        ...   \n",
       "11890    acura         zdx  2012     premium_unleaded_(required)      300.0   \n",
       "11891    acura         zdx  2012     premium_unleaded_(required)      300.0   \n",
       "11892    acura         zdx  2012     premium_unleaded_(required)      300.0   \n",
       "11893    acura         zdx  2013  premium_unleaded_(recommended)      300.0   \n",
       "11894  lincoln      zephyr  2006                regular_unleaded      221.0   \n",
       "\n",
       "       engine_cylinders transmission_type      driven_wheels  number_of_doors  \\\n",
       "0                   6.0            manual   rear_wheel_drive              2.0   \n",
       "1                   6.0            manual   rear_wheel_drive              2.0   \n",
       "2                   6.0            manual   rear_wheel_drive              2.0   \n",
       "3                   6.0            manual   rear_wheel_drive              2.0   \n",
       "4                   6.0            manual   rear_wheel_drive              2.0   \n",
       "...                 ...               ...                ...              ...   \n",
       "11890               6.0         automatic    all_wheel_drive              4.0   \n",
       "11891               6.0         automatic    all_wheel_drive              4.0   \n",
       "11892               6.0         automatic    all_wheel_drive              4.0   \n",
       "11893               6.0         automatic    all_wheel_drive              4.0   \n",
       "11894               6.0         automatic  front_wheel_drive              4.0   \n",
       "\n",
       "                             market_category vehicle_size  vehicle_style  \\\n",
       "0      factory_tuner,luxury,high-performance      compact          coupe   \n",
       "1                         luxury,performance      compact    convertible   \n",
       "2                    luxury,high-performance      compact          coupe   \n",
       "3                         luxury,performance      compact          coupe   \n",
       "4                                     luxury      compact    convertible   \n",
       "...                                      ...          ...            ...   \n",
       "11890             crossover,hatchback,luxury      midsize  4dr_hatchback   \n",
       "11891             crossover,hatchback,luxury      midsize  4dr_hatchback   \n",
       "11892             crossover,hatchback,luxury      midsize  4dr_hatchback   \n",
       "11893             crossover,hatchback,luxury      midsize  4dr_hatchback   \n",
       "11894                                 luxury      midsize          sedan   \n",
       "\n",
       "       highway_mpg  city_mpg  popularity   msrp  \n",
       "0               26        19        3916  46135  \n",
       "1               28        19        3916  40650  \n",
       "2               28        20        3916  36350  \n",
       "3               28        18        3916  29450  \n",
       "4               28        18        3916  34500  \n",
       "...            ...       ...         ...    ...  \n",
       "11890           23        16         204  46120  \n",
       "11891           23        16         204  56670  \n",
       "11892           23        16         204  50620  \n",
       "11893           23        16         204  50920  \n",
       "11894           26        17          61  28995  \n",
       "\n",
       "[11895 rows x 16 columns]"
      ]
     },
     "execution_count": 39,
     "metadata": {},
     "output_type": "execute_result"
    }
   ],
   "source": [
    "df.reset_index(drop=True)"
   ]
  },
  {
   "cell_type": "code",
   "execution_count": 40,
   "id": "b2b891a4",
   "metadata": {},
   "outputs": [],
   "source": [
    "#Converting categorical to numerical columns\n",
    "from sklearn.preprocessing import LabelEncoder"
   ]
  },
  {
   "cell_type": "code",
   "execution_count": 41,
   "id": "3a6b8e24",
   "metadata": {},
   "outputs": [],
   "source": [
    "le=LabelEncoder()\n",
    "df['make']=le.fit_transform(df['make'])\n",
    "df['model']=le.fit_transform(df['model'])\n",
    "df['engine_fuel_type']=le.fit_transform(df['engine_fuel_type'])\n",
    "df['transmission_type']=le.fit_transform(df['transmission_type'])\n",
    "df['driven_wheels']=le.fit_transform(df['driven_wheels'])\n",
    "df['market_category']=le.fit_transform(df['market_category'])\n",
    "df['vehicle_size']=le.fit_transform(df['vehicle_size'])\n",
    "df['vehicle_style']=le.fit_transform(df['vehicle_style'])\n"
   ]
  },
  {
   "cell_type": "markdown",
   "id": "9b7f5fe6",
   "metadata": {},
   "source": [
    "# OUTLIER ANALYSIS AND REMOVAL"
   ]
  },
  {
   "cell_type": "code",
   "execution_count": 42,
   "id": "4fab8002",
   "metadata": {},
   "outputs": [
    {
     "data": {
      "image/png": "[encoded data removed]",
      "text/plain": [
       "<Figure size 640x480 with 1 Axes>"
      ]
     },
     "metadata": {},
     "output_type": "display_data"
    },
    {
     "data": {
      "image/png": "[encoded data removed]",
      "text/plain": [
       "<Figure size 640x480 with 1 Axes>"
      ]
     },
     "metadata": {},
     "output_type": "display_data"
    },
    {
     "data": {
      "image/png": "[encoded data removed]",
      "text/plain": [
       "<Figure size 640x480 with 1 Axes>"
      ]
     },
     "metadata": {},
     "output_type": "display_data"
    },
    {
     "data": {
      "image/png": "[encoded data removed]",
      "text/plain": [
       "<Figure size 640x480 with 1 Axes>"
      ]
     },
     "metadata": {},
     "output_type": "display_data"
    },
    {
     "data": {
      "image/png": "[encoded data removed]",
      "text/plain": [
       "<Figure size 640x480 with 1 Axes>"
      ]
     },
     "metadata": {},
     "output_type": "display_data"
    },
    {
     "data": {
      "image/png": "[encoded data removed]",
      "text/plain": [
       "<Figure size 640x480 with 1 Axes>"
      ]
     },
     "metadata": {},
     "output_type": "display_data"
    },
    {
     "data": {
      "image/png": "[encoded data removed]",
      "text/plain": [
       "<Figure size 640x480 with 1 Axes>"
      ]
     },
     "metadata": {},
     "output_type": "display_data"
    },
    {
     "data": {
      "image/png": "[encoded data removed]",
      "text/plain": [
       "<Figure size 640x480 with 1 Axes>"
      ]
     },
     "metadata": {},
     "output_type": "display_data"
    },
    {
     "data": {
      "image/png": "[encoded data removed]",
      "text/plain": [
       "<Figure size 640x480 with 1 Axes>"
      ]
     },
     "metadata": {},
     "output_type": "display_data"
    },
    {
     "data": {
      "image/png": "[encoded data removed]",
      "text/plain": [
       "<Figure size 640x480 with 1 Axes>"
      ]
     },
     "metadata": {},
     "output_type": "display_data"
    },
    {
     "data": {
      "image/png": "[encoded data removed]",
      "text/plain": [
       "<Figure size 640x480 with 1 Axes>"
      ]
     },
     "metadata": {},
     "output_type": "display_data"
    },
    {
     "data": {
      "image/png": "[encoded data removed]",
      "text/plain": [
       "<Figure size 640x480 with 1 Axes>"
      ]
     },
     "metadata": {},
     "output_type": "display_data"
    },
    {
     "data": {
      "image/png": "[encoded data removed]",
      "text/plain": [
       "<Figure size 640x480 with 1 Axes>"
      ]
     },
     "metadata": {},
     "output_type": "display_data"
    },
    {
     "data": {
      "image/png": "[encoded data removed]",
      "text/plain": [
       "<Figure size 640x480 with 1 Axes>"
      ]
     },
     "metadata": {},
     "output_type": "display_data"
    },
    {
     "data": {
      "image/png": "[encoded data removed]",
      "text/plain": [
       "<Figure size 640x480 with 1 Axes>"
      ]
     },
     "metadata": {},
     "output_type": "display_data"
    },
    {
     "data": {
      "image/png": "[encoded data removed]",
      "text/plain": [
       "<Figure size 640x480 with 1 Axes>"
      ]
     },
     "metadata": {},
     "output_type": "display_data"
    }
   ],
   "source": [
    "#Outlier detection\n",
    "for i in df:\n",
    "    sns.boxplot(x=df[i])\n",
    "    plt.show()\n",
    "       "
   ]
  },
  {
   "cell_type": "code",
   "execution_count": 43,
   "id": "baab934e",
   "metadata": {},
   "outputs": [],
   "source": [
    "#outliers are in:\n",
    "#year,engine_fuel_type,engine_hp,engine_cylinders,highway_mpg,city_mpg,popularity,MSRP"
   ]
  },
  {
   "cell_type": "code",
   "execution_count": 44,
   "id": "bc0c0a45",
   "metadata": {},
   "outputs": [
    {
     "data": {
      "text/plain": [
       "9.0"
      ]
     },
     "execution_count": 44,
     "metadata": {},
     "output_type": "execute_result"
    }
   ],
   "source": [
    "#outlier removal using IQR method\n",
    "#year\n",
    "from scipy import stats\n",
    "IQR=stats.iqr(df.year,interpolation='midpoint')\n",
    "IQR"
   ]
  },
  {
   "cell_type": "code",
   "execution_count": 45,
   "id": "5f59466d",
   "metadata": {},
   "outputs": [
    {
     "data": {
      "text/plain": [
       "(1993.5, 2029.5)"
      ]
     },
     "execution_count": 45,
     "metadata": {},
     "output_type": "execute_result"
    }
   ],
   "source": [
    "Q1=df.year.quantile(0.25)\n",
    "Q3=df.year.quantile(0.75)\n",
    "min_limit=Q1-1.5*IQR\n",
    "max_limit=Q3+1.5*IQR\n",
    "min_limit,max_limit"
   ]
  },
  {
   "cell_type": "code",
   "execution_count": 46,
   "id": "ed6d8931",
   "metadata": {},
   "outputs": [],
   "source": [
    "df.loc[df['year']>max_limit,'year']=np.median(df.year)\n",
    "df.loc[df['year']<min_limit,'year']=np.median(df.year)"
   ]
  },
  {
   "cell_type": "code",
   "execution_count": 47,
   "id": "03a2bef7",
   "metadata": {},
   "outputs": [],
   "source": [
    "#engine_fuel_type\n",
    "IQR=stats.iqr(df.engine_fuel_type,interpolation='midpoint')\n",
    "IQR\n",
    "Q1=df.engine_fuel_type.quantile(0.25)\n",
    "Q3=df.engine_fuel_type.quantile(0.75)\n",
    "min_limit=Q1-1.5*IQR\n",
    "max_limit=Q3+1.5*IQR\n",
    "min_limit,max_limit\n",
    "df.loc[df['engine_fuel_type']>max_limit,'engine_fuel_type']=np.median(df.engine_fuel_type)\n",
    "df.loc[df['engine_fuel_type']<min_limit,'engine_fuel_type']=np.median(df.engine_fuel_type)"
   ]
  },
  {
   "cell_type": "code",
   "execution_count": 48,
   "id": "5e6a4b4d",
   "metadata": {},
   "outputs": [],
   "source": [
    "#engine_hp\n",
    "IQR=stats.iqr(df.engine_hp,interpolation='midpoint')\n",
    "IQR\n",
    "Q1=df.engine_hp.quantile(0.25)\n",
    "Q3=df.engine_hp.quantile(0.75)\n",
    "min_limit=Q1-1.5*IQR\n",
    "max_limit=Q3+1.5*IQR\n",
    "min_limit,max_limit\n",
    "df.loc[df['engine_hp']>max_limit,'engine_hp']=np.median(df.engine_hp)\n",
    "df.loc[df['engine_hp']<min_limit,'engine_hp']=np.median(df.engine_hp)"
   ]
  },
  {
   "cell_type": "code",
   "execution_count": 49,
   "id": "48b96c1f",
   "metadata": {},
   "outputs": [],
   "source": [
    "#enginr_cylinders\n",
    "IQR=stats.iqr(df.engine_cylinders,interpolation='midpoint')\n",
    "IQR\n",
    "Q1=df.engine_cylinders.quantile(0.25)\n",
    "Q3=df.engine_cylinders.quantile(0.75)\n",
    "min_limit=Q1-1.5*IQR\n",
    "max_limit=Q3+1.5*IQR\n",
    "min_limit,max_limit\n",
    "df.loc[df['engine_cylinders']>max_limit,'engine_cylinders']=np.median(df.engine_cylinders)\n",
    "df.loc[df['engine_cylinders']<min_limit,'engine_cylinders']=np.median(df.engine_cylinders)"
   ]
  },
  {
   "cell_type": "code",
   "execution_count": 50,
   "id": "8e2d8f4c",
   "metadata": {},
   "outputs": [],
   "source": [
    "#highway_mpg\n",
    "IQR=stats.iqr(df.highway_mpg,interpolation='midpoint')\n",
    "IQR\n",
    "Q1=df.highway_mpg.quantile(0.25)\n",
    "Q3=df.highway_mpg.quantile(0.75)\n",
    "min_limit=Q1-1.5*IQR\n",
    "max_limit=Q3+1.5*IQR\n",
    "min_limit,max_limit\n",
    "df.loc[df['highway_mpg']>max_limit,'highway_mpg']=np.median(df.highway_mpg)\n",
    "df.loc[df['highway_mpg']<min_limit,'highway_mpg']=np.median(df.highway_mpg)"
   ]
  },
  {
   "cell_type": "code",
   "execution_count": 51,
   "id": "1621c786",
   "metadata": {},
   "outputs": [],
   "source": [
    "#city_mpg\n",
    "IQR=stats.iqr(df.city_mpg,interpolation='midpoint')\n",
    "IQR\n",
    "Q1=df.city_mpg.quantile(0.25)\n",
    "Q3=df.city_mpg.quantile(0.75)\n",
    "min_limit=Q1-1.5*IQR\n",
    "max_limit=Q3+1.5*IQR\n",
    "min_limit,max_limit\n",
    "df.loc[df['city_mpg']>max_limit,'city_mpg']=np.median(df.city_mpg)\n",
    "df.loc[df['city_mpg']<min_limit,'city_mpg']=np.median(df.city_mpg)"
   ]
  },
  {
   "cell_type": "code",
   "execution_count": 52,
   "id": "ad484f6e",
   "metadata": {},
   "outputs": [],
   "source": [
    "#popularity\n",
    "IQR=stats.iqr(df.popularity,interpolation='midpoint')\n",
    "IQR\n",
    "Q1=df.popularity.quantile(0.25)\n",
    "Q3=df.popularity.quantile(0.75)\n",
    "min_limit=Q1-1.5*IQR\n",
    "max_limit=Q3+1.5*IQR\n",
    "min_limit,max_limit\n",
    "df.loc[df['popularity']>max_limit,'popularity']=np.median(df.popularity)\n",
    "df.loc[df['popularity']<min_limit,'popularity']=np.median(df.popularity)"
   ]
  },
  {
   "cell_type": "code",
   "execution_count": 53,
   "id": "6e8843de",
   "metadata": {},
   "outputs": [],
   "source": [
    "#popularity\n",
    "IQR=stats.iqr(df.msrp,interpolation='midpoint')\n",
    "IQR\n",
    "Q1=df.msrp.quantile(0.25)\n",
    "Q3=df.msrp.quantile(0.75)\n",
    "min_limit=Q1-1.5*IQR\n",
    "max_limit=Q3+1.5*IQR\n",
    "min_limit,max_limit\n",
    "df.loc[df['msrp']>max_limit,'msrp']=np.median(df.msrp)\n",
    "df.loc[df['msrp']<min_limit,'msrp']=np.median(df.msrp)"
   ]
  },
  {
   "cell_type": "code",
   "execution_count": 54,
   "id": "ee0aea6d",
   "metadata": {},
   "outputs": [
    {
     "data": {
      "image/png": "[encoded data removed]",
      "text/plain": [
       "<Figure size 640x480 with 1 Axes>"
      ]
     },
     "metadata": {},
     "output_type": "display_data"
    },
    {
     "data": {
      "image/png": "[encoded data removed]",
      "text/plain": [
       "<Figure size 640x480 with 1 Axes>"
      ]
     },
     "metadata": {},
     "output_type": "display_data"
    },
    {
     "data": {
      "image/png": "[encoded data removed]",
      "text/plain": [
       "<Figure size 640x480 with 1 Axes>"
      ]
     },
     "metadata": {},
     "output_type": "display_data"
    },
    {
     "data": {
      "image/png": "[encoded data removed]",
      "text/plain": [
       "<Figure size 640x480 with 1 Axes>"
      ]
     },
     "metadata": {},
     "output_type": "display_data"
    },
    {
     "data": {
      "image/png": "[encoded data removed]",
      "text/plain": [
       "<Figure size 640x480 with 1 Axes>"
      ]
     },
     "metadata": {},
     "output_type": "display_data"
    },
    {
     "data": {
      "image/png": "[encoded data removed]",
      "text/plain": [
       "<Figure size 640x480 with 1 Axes>"
      ]
     },
     "metadata": {},
     "output_type": "display_data"
    },
    {
     "data": {
      "image/png": "[encoded data removed]",
      "text/plain": [
       "<Figure size 640x480 with 1 Axes>"
      ]
     },
     "metadata": {},
     "output_type": "display_data"
    },
    {
     "data": {
      "image/png": "[encoded data removed]",
      "text/plain": [
       "<Figure size 640x480 with 1 Axes>"
      ]
     },
     "metadata": {},
     "output_type": "display_data"
    },
    {
     "data": {
      "image/png": "[encoded data removed]",
      "text/plain": [
       "<Figure size 640x480 with 1 Axes>"
      ]
     },
     "metadata": {},
     "output_type": "display_data"
    },
    {
     "data": {
      "image/png": "[encoded data removed]",
      "text/plain": [
       "<Figure size 640x480 with 1 Axes>"
      ]
     },
     "metadata": {},
     "output_type": "display_data"
    },
    {
     "data": {
      "image/png": "[encoded data removed]",
      "text/plain": [
       "<Figure size 640x480 with 1 Axes>"
      ]
     },
     "metadata": {},
     "output_type": "display_data"
    },
    {
     "data": {
      "image/png": "[encoded data removed]",
      "text/plain": [
       "<Figure size 640x480 with 1 Axes>"
      ]
     },
     "metadata": {},
     "output_type": "display_data"
    },
    {
     "data": {
      "image/png": "[encoded data removed]",
      "text/plain": [
       "<Figure size 640x480 with 1 Axes>"
      ]
     },
     "metadata": {},
     "output_type": "display_data"
    },
    {
     "data": {
      "image/png": "[encoded data removed]",
      "text/plain": [
       "<Figure size 640x480 with 1 Axes>"
      ]
     },
     "metadata": {},
     "output_type": "display_data"
    },
    {
     "data": {
      "image/png": "[encoded data removed]",
      "text/plain": [
       "<Figure size 640x480 with 1 Axes>"
      ]
     },
     "metadata": {},
     "output_type": "display_data"
    },
    {
     "data": {
      "image/png": "[encoded data removed]",
      "text/plain": [
       "<Figure size 640x480 with 1 Axes>"
      ]
     },
     "metadata": {},
     "output_type": "display_data"
    }
   ],
   "source": [
    "for i in df:\n",
    "    sns.boxplot(x=df[i])\n",
    "    plt.show()"
   ]
  },
  {
   "cell_type": "markdown",
   "id": "fec5eced",
   "metadata": {},
   "source": [
    "# Modelling"
   ]
  },
  {
   "cell_type": "markdown",
   "id": "60d9c447",
   "metadata": {},
   "source": [
    "# splitting of data"
   ]
  },
  {
   "cell_type": "code",
   "execution_count": 55,
   "id": "b8f94eb0",
   "metadata": {},
   "outputs": [],
   "source": [
    "x = df[['make','model','year','engine_fuel_type','engine_hp','engine_cylinders','highway_mpg','popularity']].values\n",
    "y = df['msrp'].values"
   ]
  },
  {
   "cell_type": "code",
   "execution_count": 56,
   "id": "fe3175ac",
   "metadata": {},
   "outputs": [],
   "source": [
    "#normalizing the data\n",
    "from sklearn.preprocessing import StandardScaler\n",
    "sc_x=StandardScaler()\n",
    "sc_y=StandardScaler()\n",
    "\n",
    "x=sc_x.fit_transform(x)\n",
    "y=sc_y.fit_transform(y.reshape(-1,1))"
   ]
  },
  {
   "cell_type": "code",
   "execution_count": 57,
   "id": "f2024cb0",
   "metadata": {},
   "outputs": [],
   "source": [
    "# splitting the dataset into training and test sets\n",
    "\n",
    "from sklearn.model_selection import train_test_split\n",
    "\n",
    "x_train,x_test,y_train,y_test = train_test_split(x,y,test_size = 0.2,random_state = 0)"
   ]
  },
  {
   "cell_type": "markdown",
   "id": "cc571476",
   "metadata": {},
   "source": [
    "# LINEAR REGRESSION"
   ]
  },
  {
   "cell_type": "code",
   "execution_count": 58,
   "id": "b59897b4",
   "metadata": {},
   "outputs": [],
   "source": [
    "from sklearn.metrics import accuracy_score"
   ]
  },
  {
   "cell_type": "code",
   "execution_count": 59,
   "id": "51e71e34",
   "metadata": {},
   "outputs": [
    {
     "name": "stdout",
     "output_type": "stream",
     "text": [
      "Training Accuracy : 0.5735166736593622\n",
      "Testing Accuracy : 0.558506588594192\n"
     ]
    }
   ],
   "source": [
    "from sklearn.linear_model import LinearRegression\n",
    "\n",
    "lr_model = LinearRegression()\n",
    "lr_model.fit(x_train,y_train)\n",
    "\n",
    "# calculating the accuracies\n",
    "print(\"Training Accuracy :\",lr_model.score(x_train,y_train))\n",
    "print(\"Testing Accuracy :\",lr_model.score(x_test,y_test))"
   ]
  },
  {
   "cell_type": "markdown",
   "id": "812063f1",
   "metadata": {},
   "source": [
    "# SVM"
   ]
  },
  {
   "cell_type": "code",
   "execution_count": 60,
   "id": "65e2ba21",
   "metadata": {},
   "outputs": [
    {
     "name": "stdout",
     "output_type": "stream",
     "text": [
      "Training Accuracy : 0.8057495270673443\n",
      "Testing Accuracy : 0.7877958271243126\n"
     ]
    }
   ],
   "source": [
    "from sklearn.svm import SVR\n",
    "svr_model=SVR(kernel = 'rbf')\n",
    "svr_model.fit(x_train,y_train)\n",
    "\n",
    "# calculating the accuracies\n",
    "print(\"Training Accuracy :\",svr_model.score(x_train,y_train))\n",
    "print(\"Testing Accuracy :\",svr_model.score(x_test,y_test))"
   ]
  },
  {
   "cell_type": "markdown",
   "id": "f070ca5c",
   "metadata": {},
   "source": [
    "# DECISION TREE"
   ]
  },
  {
   "cell_type": "code",
   "execution_count": 61,
   "id": "3674924f",
   "metadata": {},
   "outputs": [
    {
     "name": "stdout",
     "output_type": "stream",
     "text": [
      "Training Accuracy : 0.9679081238862081\n",
      "Testing Accuracy : 0.8908808736506508\n"
     ]
    }
   ],
   "source": [
    "from sklearn.tree import DecisionTreeRegressor\n",
    "dt_clf=DecisionTreeRegressor(random_state=42)\n",
    "dt_clf.fit(x_train,y_train)\n",
    "# calculating the accuracies\n",
    "print(\"Training Accuracy :\",dt_clf.score(x_train,y_train))\n",
    "print(\"Testing Accuracy :\",dt_clf.score(x_test,y_test))"
   ]
  },
  {
   "cell_type": "markdown",
   "id": "26e9a2dd",
   "metadata": {},
   "source": [
    "# RANDOM FOREST"
   ]
  },
  {
   "cell_type": "code",
   "execution_count": 62,
   "id": "d6eafc40",
   "metadata": {},
   "outputs": [
    {
     "name": "stdout",
     "output_type": "stream",
     "text": [
      "Training Accuracy : 0.9630671356977438\n",
      "Testing Accuracy : 0.9169894750388763\n"
     ]
    }
   ],
   "source": [
    "from sklearn.ensemble import RandomForestRegressor\n",
    "\n",
    "rfc_model=RandomForestRegressor(n_estimators=300,random_state=0)\n",
    "rfc_model.fit(x_train,y_train)\n",
    "\n",
    "# calculating the accuracies\n",
    "print(\"Training Accuracy :\",rfc_model.score(x_train,y_train))\n",
    "print(\"Testing Accuracy :\",rfc_model.score(x_test,y_test))"
   ]
  },
  {
   "cell_type": "code",
   "execution_count": 63,
   "id": "ad22fbe1",
   "metadata": {},
   "outputs": [],
   "source": [
    "#Random Forest gives highest accuracy hence it is the best algorithm to predict Car Prices"
   ]
  },
  {
   "cell_type": "markdown",
   "id": "6705f726",
   "metadata": {},
   "source": [
    "# FINE TUNING FOR RANDOM FOREST"
   ]
  },
  {
   "cell_type": "code",
   "execution_count": null,
   "id": "26f04736",
   "metadata": {},
   "outputs": [],
   "source": [
    "from sklearn.ensemble import RandomForestRegressor\n",
    "from sklearn.model_selection import GridSearchCV, train_test_split\n",
    "from sklearn.metrics import mean_squared_error, r2_score\n",
    "\n",
    "# Split the dataset into training and testing sets\n",
    "#X_train, X_test, y_train, y_test = train_test_split(X, y, test_size=0.2, random_state=42)\n",
    "\n",
    "# Create a Random Forest regressor object\n",
    "rf = RandomForestRegressor()\n",
    "\n",
    "# Define the parameter grid for fine-tuning\n",
    "param_grid = {\n",
    "    'n_estimators': [100, 200, 500],\n",
    "    'max_depth': [None, 5, 10],\n",
    "    'min_samples_split': [2, 5, 10],\n",
    "    'min_samples_leaf': [1, 2, 4]\n",
    "}\n",
    "\n",
    "# Perform grid search cross-validation to find the best parameters\n",
    "grid_search = GridSearchCV(estimator=rf, param_grid=param_grid, cv=5)\n",
    "grid_search.fit(x_train, y_train)\n",
    "\n",
    "# Get the best parameters and best model\n",
    "best_params = grid_search.best_params_\n",
    "best_model = grid_search.best_estimator_\n",
    "\n",
    "# Evaluate the best model on the testing set\n",
    "y_pred = best_model.predict(x_test)\n",
    "mse = mean_squared_error(y_test, y_pred)\n",
    "r2 = r2_score(y_test, y_pred)\n",
    "\n",
    "print(\"Best Model MSE:\", mse)\n",
    "print(\"Best Model R^2 Score:\", r2)\n"
   ]
  },
  {
   "cell_type": "code",
   "execution_count": null,
   "id": "88e6edcc",
   "metadata": {},
   "outputs": [],
   "source": []
  }
 ],
 "metadata": {
  "kernelspec": {
   "display_name": "Python 3 (ipykernel)",
   "language": "python",
   "name": "python3"
  },
  "language_info": {
   "codemirror_mode": {
    "name": "ipython",
    "version": 3
   },
   "file_extension": ".py",
   "mimetype": "text/x-python",
   "name": "python",
   "nbconvert_exporter": "python",
   "pygments_lexer": "ipython3",
   "version": "3.9.13"
  }
 },
 "nbformat": 4,
 "nbformat_minor": 5
}
